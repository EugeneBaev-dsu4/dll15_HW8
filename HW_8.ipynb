{
  "nbformat": 4,
  "nbformat_minor": 0,
  "metadata": {
    "colab": {
      "provenance": []
    },
    "kernelspec": {
      "name": "python3",
      "display_name": "Python 3"
    },
    "language_info": {
      "name": "python"
    },
    "accelerator": "GPU",
    "gpuClass": "standard",
    "widgets": {
      "application/vnd.jupyter.widget-state+json": {
        "378d00c4f3cd405ab62659b8d98a8b5c": {
          "model_module": "@jupyter-widgets/controls",
          "model_name": "HBoxModel",
          "model_module_version": "1.5.0",
          "state": {
            "_dom_classes": [],
            "_model_module": "@jupyter-widgets/controls",
            "_model_module_version": "1.5.0",
            "_model_name": "HBoxModel",
            "_view_count": null,
            "_view_module": "@jupyter-widgets/controls",
            "_view_module_version": "1.5.0",
            "_view_name": "HBoxView",
            "box_style": "",
            "children": [
              "IPY_MODEL_5ec7ceb55669466ea527c847c8711fd8",
              "IPY_MODEL_e68d18b52fd646ed9919ba5c1844d5cf",
              "IPY_MODEL_b1d6deca0c3c4b669bc7c038d0b3c129"
            ],
            "layout": "IPY_MODEL_b27d8d192950440eb8f73b128cac9f2d"
          }
        },
        "5ec7ceb55669466ea527c847c8711fd8": {
          "model_module": "@jupyter-widgets/controls",
          "model_name": "HTMLModel",
          "model_module_version": "1.5.0",
          "state": {
            "_dom_classes": [],
            "_model_module": "@jupyter-widgets/controls",
            "_model_module_version": "1.5.0",
            "_model_name": "HTMLModel",
            "_view_count": null,
            "_view_module": "@jupyter-widgets/controls",
            "_view_module_version": "1.5.0",
            "_view_name": "HTMLView",
            "description": "",
            "description_tooltip": null,
            "layout": "IPY_MODEL_3bc1693e943347f5b009f2287a2f26cb",
            "placeholder": "​",
            "style": "IPY_MODEL_3260790db19e46ce92bbeb4a3ce42896",
            "value": "100%"
          }
        },
        "e68d18b52fd646ed9919ba5c1844d5cf": {
          "model_module": "@jupyter-widgets/controls",
          "model_name": "FloatProgressModel",
          "model_module_version": "1.5.0",
          "state": {
            "_dom_classes": [],
            "_model_module": "@jupyter-widgets/controls",
            "_model_module_version": "1.5.0",
            "_model_name": "FloatProgressModel",
            "_view_count": null,
            "_view_module": "@jupyter-widgets/controls",
            "_view_module_version": "1.5.0",
            "_view_name": "ProgressView",
            "bar_style": "success",
            "description": "",
            "description_tooltip": null,
            "layout": "IPY_MODEL_dc00f53245b54d89ad8432d623d6db8f",
            "max": 75000,
            "min": 0,
            "orientation": "horizontal",
            "style": "IPY_MODEL_215c199f3d694895a062d1c5aac4ee04",
            "value": 75000
          }
        },
        "b1d6deca0c3c4b669bc7c038d0b3c129": {
          "model_module": "@jupyter-widgets/controls",
          "model_name": "HTMLModel",
          "model_module_version": "1.5.0",
          "state": {
            "_dom_classes": [],
            "_model_module": "@jupyter-widgets/controls",
            "_model_module_version": "1.5.0",
            "_model_name": "HTMLModel",
            "_view_count": null,
            "_view_module": "@jupyter-widgets/controls",
            "_view_module_version": "1.5.0",
            "_view_name": "HTMLView",
            "description": "",
            "description_tooltip": null,
            "layout": "IPY_MODEL_54ce835aa9bc44f592f3cd5341733dc1",
            "placeholder": "​",
            "style": "IPY_MODEL_c6e423826b08466f955fe41d152bc0d4",
            "value": " 75000/75000 [39:02&lt;00:00, 26.84it/s]"
          }
        },
        "b27d8d192950440eb8f73b128cac9f2d": {
          "model_module": "@jupyter-widgets/base",
          "model_name": "LayoutModel",
          "model_module_version": "1.2.0",
          "state": {
            "_model_module": "@jupyter-widgets/base",
            "_model_module_version": "1.2.0",
            "_model_name": "LayoutModel",
            "_view_count": null,
            "_view_module": "@jupyter-widgets/base",
            "_view_module_version": "1.2.0",
            "_view_name": "LayoutView",
            "align_content": null,
            "align_items": null,
            "align_self": null,
            "border": null,
            "bottom": null,
            "display": null,
            "flex": null,
            "flex_flow": null,
            "grid_area": null,
            "grid_auto_columns": null,
            "grid_auto_flow": null,
            "grid_auto_rows": null,
            "grid_column": null,
            "grid_gap": null,
            "grid_row": null,
            "grid_template_areas": null,
            "grid_template_columns": null,
            "grid_template_rows": null,
            "height": null,
            "justify_content": null,
            "justify_items": null,
            "left": null,
            "margin": null,
            "max_height": null,
            "max_width": null,
            "min_height": null,
            "min_width": null,
            "object_fit": null,
            "object_position": null,
            "order": null,
            "overflow": null,
            "overflow_x": null,
            "overflow_y": null,
            "padding": null,
            "right": null,
            "top": null,
            "visibility": null,
            "width": null
          }
        },
        "3bc1693e943347f5b009f2287a2f26cb": {
          "model_module": "@jupyter-widgets/base",
          "model_name": "LayoutModel",
          "model_module_version": "1.2.0",
          "state": {
            "_model_module": "@jupyter-widgets/base",
            "_model_module_version": "1.2.0",
            "_model_name": "LayoutModel",
            "_view_count": null,
            "_view_module": "@jupyter-widgets/base",
            "_view_module_version": "1.2.0",
            "_view_name": "LayoutView",
            "align_content": null,
            "align_items": null,
            "align_self": null,
            "border": null,
            "bottom": null,
            "display": null,
            "flex": null,
            "flex_flow": null,
            "grid_area": null,
            "grid_auto_columns": null,
            "grid_auto_flow": null,
            "grid_auto_rows": null,
            "grid_column": null,
            "grid_gap": null,
            "grid_row": null,
            "grid_template_areas": null,
            "grid_template_columns": null,
            "grid_template_rows": null,
            "height": null,
            "justify_content": null,
            "justify_items": null,
            "left": null,
            "margin": null,
            "max_height": null,
            "max_width": null,
            "min_height": null,
            "min_width": null,
            "object_fit": null,
            "object_position": null,
            "order": null,
            "overflow": null,
            "overflow_x": null,
            "overflow_y": null,
            "padding": null,
            "right": null,
            "top": null,
            "visibility": null,
            "width": null
          }
        },
        "3260790db19e46ce92bbeb4a3ce42896": {
          "model_module": "@jupyter-widgets/controls",
          "model_name": "DescriptionStyleModel",
          "model_module_version": "1.5.0",
          "state": {
            "_model_module": "@jupyter-widgets/controls",
            "_model_module_version": "1.5.0",
            "_model_name": "DescriptionStyleModel",
            "_view_count": null,
            "_view_module": "@jupyter-widgets/base",
            "_view_module_version": "1.2.0",
            "_view_name": "StyleView",
            "description_width": ""
          }
        },
        "dc00f53245b54d89ad8432d623d6db8f": {
          "model_module": "@jupyter-widgets/base",
          "model_name": "LayoutModel",
          "model_module_version": "1.2.0",
          "state": {
            "_model_module": "@jupyter-widgets/base",
            "_model_module_version": "1.2.0",
            "_model_name": "LayoutModel",
            "_view_count": null,
            "_view_module": "@jupyter-widgets/base",
            "_view_module_version": "1.2.0",
            "_view_name": "LayoutView",
            "align_content": null,
            "align_items": null,
            "align_self": null,
            "border": null,
            "bottom": null,
            "display": null,
            "flex": null,
            "flex_flow": null,
            "grid_area": null,
            "grid_auto_columns": null,
            "grid_auto_flow": null,
            "grid_auto_rows": null,
            "grid_column": null,
            "grid_gap": null,
            "grid_row": null,
            "grid_template_areas": null,
            "grid_template_columns": null,
            "grid_template_rows": null,
            "height": null,
            "justify_content": null,
            "justify_items": null,
            "left": null,
            "margin": null,
            "max_height": null,
            "max_width": null,
            "min_height": null,
            "min_width": null,
            "object_fit": null,
            "object_position": null,
            "order": null,
            "overflow": null,
            "overflow_x": null,
            "overflow_y": null,
            "padding": null,
            "right": null,
            "top": null,
            "visibility": null,
            "width": null
          }
        },
        "215c199f3d694895a062d1c5aac4ee04": {
          "model_module": "@jupyter-widgets/controls",
          "model_name": "ProgressStyleModel",
          "model_module_version": "1.5.0",
          "state": {
            "_model_module": "@jupyter-widgets/controls",
            "_model_module_version": "1.5.0",
            "_model_name": "ProgressStyleModel",
            "_view_count": null,
            "_view_module": "@jupyter-widgets/base",
            "_view_module_version": "1.2.0",
            "_view_name": "StyleView",
            "bar_color": null,
            "description_width": ""
          }
        },
        "54ce835aa9bc44f592f3cd5341733dc1": {
          "model_module": "@jupyter-widgets/base",
          "model_name": "LayoutModel",
          "model_module_version": "1.2.0",
          "state": {
            "_model_module": "@jupyter-widgets/base",
            "_model_module_version": "1.2.0",
            "_model_name": "LayoutModel",
            "_view_count": null,
            "_view_module": "@jupyter-widgets/base",
            "_view_module_version": "1.2.0",
            "_view_name": "LayoutView",
            "align_content": null,
            "align_items": null,
            "align_self": null,
            "border": null,
            "bottom": null,
            "display": null,
            "flex": null,
            "flex_flow": null,
            "grid_area": null,
            "grid_auto_columns": null,
            "grid_auto_flow": null,
            "grid_auto_rows": null,
            "grid_column": null,
            "grid_gap": null,
            "grid_row": null,
            "grid_template_areas": null,
            "grid_template_columns": null,
            "grid_template_rows": null,
            "height": null,
            "justify_content": null,
            "justify_items": null,
            "left": null,
            "margin": null,
            "max_height": null,
            "max_width": null,
            "min_height": null,
            "min_width": null,
            "object_fit": null,
            "object_position": null,
            "order": null,
            "overflow": null,
            "overflow_x": null,
            "overflow_y": null,
            "padding": null,
            "right": null,
            "top": null,
            "visibility": null,
            "width": null
          }
        },
        "c6e423826b08466f955fe41d152bc0d4": {
          "model_module": "@jupyter-widgets/controls",
          "model_name": "DescriptionStyleModel",
          "model_module_version": "1.5.0",
          "state": {
            "_model_module": "@jupyter-widgets/controls",
            "_model_module_version": "1.5.0",
            "_model_name": "DescriptionStyleModel",
            "_view_count": null,
            "_view_module": "@jupyter-widgets/base",
            "_view_module_version": "1.2.0",
            "_view_name": "StyleView",
            "description_width": ""
          }
        },
        "20443d5a1c2f4e668afefb75a4886664": {
          "model_module": "@jupyter-widgets/controls",
          "model_name": "HBoxModel",
          "model_module_version": "1.5.0",
          "state": {
            "_dom_classes": [],
            "_model_module": "@jupyter-widgets/controls",
            "_model_module_version": "1.5.0",
            "_model_name": "HBoxModel",
            "_view_count": null,
            "_view_module": "@jupyter-widgets/controls",
            "_view_module_version": "1.5.0",
            "_view_name": "HBoxView",
            "box_style": "",
            "children": [
              "IPY_MODEL_430967af0a814e9cbae0f5a320715b58",
              "IPY_MODEL_615e1bfa222c46a985a9e84b118540dd",
              "IPY_MODEL_075f992f90cb49e2b997f6447f506026"
            ],
            "layout": "IPY_MODEL_7ca6db0a51004a62a0c9d79710ce9d42"
          }
        },
        "430967af0a814e9cbae0f5a320715b58": {
          "model_module": "@jupyter-widgets/controls",
          "model_name": "HTMLModel",
          "model_module_version": "1.5.0",
          "state": {
            "_dom_classes": [],
            "_model_module": "@jupyter-widgets/controls",
            "_model_module_version": "1.5.0",
            "_model_name": "HTMLModel",
            "_view_count": null,
            "_view_module": "@jupyter-widgets/controls",
            "_view_module_version": "1.5.0",
            "_view_name": "HTMLView",
            "description": "",
            "description_tooltip": null,
            "layout": "IPY_MODEL_f6fb860229f147baa6c5efbe3e3c43c3",
            "placeholder": "​",
            "style": "IPY_MODEL_9f1de529d7f6462d893f3cd6db633240",
            "value": "100%"
          }
        },
        "615e1bfa222c46a985a9e84b118540dd": {
          "model_module": "@jupyter-widgets/controls",
          "model_name": "FloatProgressModel",
          "model_module_version": "1.5.0",
          "state": {
            "_dom_classes": [],
            "_model_module": "@jupyter-widgets/controls",
            "_model_module_version": "1.5.0",
            "_model_name": "FloatProgressModel",
            "_view_count": null,
            "_view_module": "@jupyter-widgets/controls",
            "_view_module_version": "1.5.0",
            "_view_name": "ProgressView",
            "bar_style": "success",
            "description": "",
            "description_tooltip": null,
            "layout": "IPY_MODEL_cb3ab9d4e60d49a494cdd1942076088c",
            "max": 75000,
            "min": 0,
            "orientation": "horizontal",
            "style": "IPY_MODEL_b99e9a67ad184572823ca09ccfa94d43",
            "value": 75000
          }
        },
        "075f992f90cb49e2b997f6447f506026": {
          "model_module": "@jupyter-widgets/controls",
          "model_name": "HTMLModel",
          "model_module_version": "1.5.0",
          "state": {
            "_dom_classes": [],
            "_model_module": "@jupyter-widgets/controls",
            "_model_module_version": "1.5.0",
            "_model_name": "HTMLModel",
            "_view_count": null,
            "_view_module": "@jupyter-widgets/controls",
            "_view_module_version": "1.5.0",
            "_view_name": "HTMLView",
            "description": "",
            "description_tooltip": null,
            "layout": "IPY_MODEL_bbe8d63ec4d54288b105be3a728db0fe",
            "placeholder": "​",
            "style": "IPY_MODEL_d82e83798c224c5da3edd1984a75ab70",
            "value": " 75000/75000 [40:25&lt;00:00, 28.88it/s]"
          }
        },
        "7ca6db0a51004a62a0c9d79710ce9d42": {
          "model_module": "@jupyter-widgets/base",
          "model_name": "LayoutModel",
          "model_module_version": "1.2.0",
          "state": {
            "_model_module": "@jupyter-widgets/base",
            "_model_module_version": "1.2.0",
            "_model_name": "LayoutModel",
            "_view_count": null,
            "_view_module": "@jupyter-widgets/base",
            "_view_module_version": "1.2.0",
            "_view_name": "LayoutView",
            "align_content": null,
            "align_items": null,
            "align_self": null,
            "border": null,
            "bottom": null,
            "display": null,
            "flex": null,
            "flex_flow": null,
            "grid_area": null,
            "grid_auto_columns": null,
            "grid_auto_flow": null,
            "grid_auto_rows": null,
            "grid_column": null,
            "grid_gap": null,
            "grid_row": null,
            "grid_template_areas": null,
            "grid_template_columns": null,
            "grid_template_rows": null,
            "height": null,
            "justify_content": null,
            "justify_items": null,
            "left": null,
            "margin": null,
            "max_height": null,
            "max_width": null,
            "min_height": null,
            "min_width": null,
            "object_fit": null,
            "object_position": null,
            "order": null,
            "overflow": null,
            "overflow_x": null,
            "overflow_y": null,
            "padding": null,
            "right": null,
            "top": null,
            "visibility": null,
            "width": null
          }
        },
        "f6fb860229f147baa6c5efbe3e3c43c3": {
          "model_module": "@jupyter-widgets/base",
          "model_name": "LayoutModel",
          "model_module_version": "1.2.0",
          "state": {
            "_model_module": "@jupyter-widgets/base",
            "_model_module_version": "1.2.0",
            "_model_name": "LayoutModel",
            "_view_count": null,
            "_view_module": "@jupyter-widgets/base",
            "_view_module_version": "1.2.0",
            "_view_name": "LayoutView",
            "align_content": null,
            "align_items": null,
            "align_self": null,
            "border": null,
            "bottom": null,
            "display": null,
            "flex": null,
            "flex_flow": null,
            "grid_area": null,
            "grid_auto_columns": null,
            "grid_auto_flow": null,
            "grid_auto_rows": null,
            "grid_column": null,
            "grid_gap": null,
            "grid_row": null,
            "grid_template_areas": null,
            "grid_template_columns": null,
            "grid_template_rows": null,
            "height": null,
            "justify_content": null,
            "justify_items": null,
            "left": null,
            "margin": null,
            "max_height": null,
            "max_width": null,
            "min_height": null,
            "min_width": null,
            "object_fit": null,
            "object_position": null,
            "order": null,
            "overflow": null,
            "overflow_x": null,
            "overflow_y": null,
            "padding": null,
            "right": null,
            "top": null,
            "visibility": null,
            "width": null
          }
        },
        "9f1de529d7f6462d893f3cd6db633240": {
          "model_module": "@jupyter-widgets/controls",
          "model_name": "DescriptionStyleModel",
          "model_module_version": "1.5.0",
          "state": {
            "_model_module": "@jupyter-widgets/controls",
            "_model_module_version": "1.5.0",
            "_model_name": "DescriptionStyleModel",
            "_view_count": null,
            "_view_module": "@jupyter-widgets/base",
            "_view_module_version": "1.2.0",
            "_view_name": "StyleView",
            "description_width": ""
          }
        },
        "cb3ab9d4e60d49a494cdd1942076088c": {
          "model_module": "@jupyter-widgets/base",
          "model_name": "LayoutModel",
          "model_module_version": "1.2.0",
          "state": {
            "_model_module": "@jupyter-widgets/base",
            "_model_module_version": "1.2.0",
            "_model_name": "LayoutModel",
            "_view_count": null,
            "_view_module": "@jupyter-widgets/base",
            "_view_module_version": "1.2.0",
            "_view_name": "LayoutView",
            "align_content": null,
            "align_items": null,
            "align_self": null,
            "border": null,
            "bottom": null,
            "display": null,
            "flex": null,
            "flex_flow": null,
            "grid_area": null,
            "grid_auto_columns": null,
            "grid_auto_flow": null,
            "grid_auto_rows": null,
            "grid_column": null,
            "grid_gap": null,
            "grid_row": null,
            "grid_template_areas": null,
            "grid_template_columns": null,
            "grid_template_rows": null,
            "height": null,
            "justify_content": null,
            "justify_items": null,
            "left": null,
            "margin": null,
            "max_height": null,
            "max_width": null,
            "min_height": null,
            "min_width": null,
            "object_fit": null,
            "object_position": null,
            "order": null,
            "overflow": null,
            "overflow_x": null,
            "overflow_y": null,
            "padding": null,
            "right": null,
            "top": null,
            "visibility": null,
            "width": null
          }
        },
        "b99e9a67ad184572823ca09ccfa94d43": {
          "model_module": "@jupyter-widgets/controls",
          "model_name": "ProgressStyleModel",
          "model_module_version": "1.5.0",
          "state": {
            "_model_module": "@jupyter-widgets/controls",
            "_model_module_version": "1.5.0",
            "_model_name": "ProgressStyleModel",
            "_view_count": null,
            "_view_module": "@jupyter-widgets/base",
            "_view_module_version": "1.2.0",
            "_view_name": "StyleView",
            "bar_color": null,
            "description_width": ""
          }
        },
        "bbe8d63ec4d54288b105be3a728db0fe": {
          "model_module": "@jupyter-widgets/base",
          "model_name": "LayoutModel",
          "model_module_version": "1.2.0",
          "state": {
            "_model_module": "@jupyter-widgets/base",
            "_model_module_version": "1.2.0",
            "_model_name": "LayoutModel",
            "_view_count": null,
            "_view_module": "@jupyter-widgets/base",
            "_view_module_version": "1.2.0",
            "_view_name": "LayoutView",
            "align_content": null,
            "align_items": null,
            "align_self": null,
            "border": null,
            "bottom": null,
            "display": null,
            "flex": null,
            "flex_flow": null,
            "grid_area": null,
            "grid_auto_columns": null,
            "grid_auto_flow": null,
            "grid_auto_rows": null,
            "grid_column": null,
            "grid_gap": null,
            "grid_row": null,
            "grid_template_areas": null,
            "grid_template_columns": null,
            "grid_template_rows": null,
            "height": null,
            "justify_content": null,
            "justify_items": null,
            "left": null,
            "margin": null,
            "max_height": null,
            "max_width": null,
            "min_height": null,
            "min_width": null,
            "object_fit": null,
            "object_position": null,
            "order": null,
            "overflow": null,
            "overflow_x": null,
            "overflow_y": null,
            "padding": null,
            "right": null,
            "top": null,
            "visibility": null,
            "width": null
          }
        },
        "d82e83798c224c5da3edd1984a75ab70": {
          "model_module": "@jupyter-widgets/controls",
          "model_name": "DescriptionStyleModel",
          "model_module_version": "1.5.0",
          "state": {
            "_model_module": "@jupyter-widgets/controls",
            "_model_module_version": "1.5.0",
            "_model_name": "DescriptionStyleModel",
            "_view_count": null,
            "_view_module": "@jupyter-widgets/base",
            "_view_module_version": "1.2.0",
            "_view_name": "StyleView",
            "description_width": ""
          }
        }
      }
    }
  },
  "cells": [
    {
      "cell_type": "markdown",
      "source": [
        "### Домашнее задание 8\n",
        "\n",
        "1.   Возьмите англо-русскую пару фраз\n",
        "2.   Обучите на них seq2seq with attention:\n",
        "\n",
        "● на основе скалярного произведения\n",
        "\n",
        "● на основе MLP\n",
        "\n",
        "3. Оцените качество"
      ],
      "metadata": {
        "id": "EddoUd0WQAy4"
      }
    },
    {
      "cell_type": "code",
      "execution_count": 1,
      "metadata": {
        "id": "dnr-pq-BP7XN"
      },
      "outputs": [],
      "source": [
        "from IPython.display import clear_output"
      ]
    },
    {
      "cell_type": "code",
      "source": [
        "!pip install pycodestyle pycodestyle_magic\n",
        "!pip install flake8\n",
        "clear_output()"
      ],
      "metadata": {
        "id": "FJeWdkoaQZiR"
      },
      "execution_count": 2,
      "outputs": []
    },
    {
      "cell_type": "code",
      "source": [
        "%load_ext pycodestyle_magic"
      ],
      "metadata": {
        "id": "Xm8lltMlQtFr"
      },
      "execution_count": 3,
      "outputs": []
    },
    {
      "cell_type": "code",
      "source": [
        "import re\n",
        "import pandas as pd\n",
        "import numpy as np\n",
        "import matplotlib.pyplot as plt\n",
        "import matplotlib.ticker as ticker\n",
        "import torch\n",
        "import torch.nn as nn\n",
        "import torch.nn.functional as F\n",
        "from torch import optim\n",
        "from itertools import chain\n",
        "from tqdm.notebook import tqdm\n",
        "from warnings import filterwarnings\n",
        "from datetime import datetime, timedelta\n",
        "\n",
        "%matplotlib inline"
      ],
      "metadata": {
        "id": "LOxdzRtmQwEv"
      },
      "execution_count": 4,
      "outputs": []
    },
    {
      "cell_type": "code",
      "source": [
        "filterwarnings('ignore')"
      ],
      "metadata": {
        "id": "d4SO1AJhQwjP"
      },
      "execution_count": 5,
      "outputs": []
    },
    {
      "cell_type": "code",
      "source": [
        "device = torch.device('cuda' if torch.cuda.is_available() else 'cpu')"
      ],
      "metadata": {
        "id": "sisRX0uKQ7t4"
      },
      "execution_count": 6,
      "outputs": []
    },
    {
      "cell_type": "code",
      "source": [
        "!wget https://www.manythings.org/anki/rus-eng.zip"
      ],
      "metadata": {
        "colab": {
          "base_uri": "https://localhost:8080/"
        },
        "id": "B6J586CIQ9Q7",
        "outputId": "cbc2f2e3-7db9-4c6b-e586-56cda521918f"
      },
      "execution_count": 7,
      "outputs": [
        {
          "output_type": "stream",
          "name": "stdout",
          "text": [
            "--2022-09-02 12:53:44--  https://www.manythings.org/anki/rus-eng.zip\n",
            "Resolving www.manythings.org (www.manythings.org)... 173.254.30.110\n",
            "Connecting to www.manythings.org (www.manythings.org)|173.254.30.110|:443... connected.\n",
            "HTTP request sent, awaiting response... 200 OK\n",
            "Length: 14819554 (14M) [application/zip]\n",
            "Saving to: ‘rus-eng.zip’\n",
            "\n",
            "rus-eng.zip         100%[===================>]  14.13M  10.3MB/s    in 1.4s    \n",
            "\n",
            "2022-09-02 12:53:45 (10.3 MB/s) - ‘rus-eng.zip’ saved [14819554/14819554]\n",
            "\n"
          ]
        }
      ]
    },
    {
      "cell_type": "code",
      "source": [
        "!unzip rus-eng.zip"
      ],
      "metadata": {
        "colab": {
          "base_uri": "https://localhost:8080/"
        },
        "id": "LAiyx3qbQ_PU",
        "outputId": "a00f8ef7-5c45-4639-b785-070a9e095fcc"
      },
      "execution_count": 8,
      "outputs": [
        {
          "output_type": "stream",
          "name": "stdout",
          "text": [
            "Archive:  rus-eng.zip\n",
            "  inflating: rus.txt                 \n",
            "  inflating: _about.txt              \n"
          ]
        }
      ]
    },
    {
      "cell_type": "code",
      "source": [
        "!rm rus-eng.zip _about.txt"
      ],
      "metadata": {
        "id": "QjN3s6DvRCWa"
      },
      "execution_count": 9,
      "outputs": []
    },
    {
      "cell_type": "code",
      "source": [
        "df = pd.read_csv('rus.txt', sep='\\t', header=None).drop(2, axis=1)"
      ],
      "metadata": {
        "id": "apdoJ03bRENN"
      },
      "execution_count": 10,
      "outputs": []
    },
    {
      "cell_type": "code",
      "source": [
        "df.head(10)"
      ],
      "metadata": {
        "colab": {
          "base_uri": "https://localhost:8080/",
          "height": 363
        },
        "id": "12E1grFXRFqS",
        "outputId": "83172efe-a2b7-4a55-f805-9fc3b64811a5"
      },
      "execution_count": 11,
      "outputs": [
        {
          "output_type": "execute_result",
          "data": {
            "text/plain": [
              "      0              1\n",
              "0   Go.          Марш!\n",
              "1   Go.           Иди.\n",
              "2   Go.         Идите.\n",
              "3   Hi.  Здравствуйте.\n",
              "4   Hi.        Привет!\n",
              "5   Hi.           Хай.\n",
              "6   Hi.       Здрасте.\n",
              "7   Hi.      Здоро́во!\n",
              "8   Hi.      Приветик!\n",
              "9  Run!          Беги!"
            ],
            "text/html": [
              "\n",
              "  <div id=\"df-b102c6b6-f452-4374-849b-3fd95d6b80a7\">\n",
              "    <div class=\"colab-df-container\">\n",
              "      <div>\n",
              "<style scoped>\n",
              "    .dataframe tbody tr th:only-of-type {\n",
              "        vertical-align: middle;\n",
              "    }\n",
              "\n",
              "    .dataframe tbody tr th {\n",
              "        vertical-align: top;\n",
              "    }\n",
              "\n",
              "    .dataframe thead th {\n",
              "        text-align: right;\n",
              "    }\n",
              "</style>\n",
              "<table border=\"1\" class=\"dataframe\">\n",
              "  <thead>\n",
              "    <tr style=\"text-align: right;\">\n",
              "      <th></th>\n",
              "      <th>0</th>\n",
              "      <th>1</th>\n",
              "    </tr>\n",
              "  </thead>\n",
              "  <tbody>\n",
              "    <tr>\n",
              "      <th>0</th>\n",
              "      <td>Go.</td>\n",
              "      <td>Марш!</td>\n",
              "    </tr>\n",
              "    <tr>\n",
              "      <th>1</th>\n",
              "      <td>Go.</td>\n",
              "      <td>Иди.</td>\n",
              "    </tr>\n",
              "    <tr>\n",
              "      <th>2</th>\n",
              "      <td>Go.</td>\n",
              "      <td>Идите.</td>\n",
              "    </tr>\n",
              "    <tr>\n",
              "      <th>3</th>\n",
              "      <td>Hi.</td>\n",
              "      <td>Здравствуйте.</td>\n",
              "    </tr>\n",
              "    <tr>\n",
              "      <th>4</th>\n",
              "      <td>Hi.</td>\n",
              "      <td>Привет!</td>\n",
              "    </tr>\n",
              "    <tr>\n",
              "      <th>5</th>\n",
              "      <td>Hi.</td>\n",
              "      <td>Хай.</td>\n",
              "    </tr>\n",
              "    <tr>\n",
              "      <th>6</th>\n",
              "      <td>Hi.</td>\n",
              "      <td>Здрасте.</td>\n",
              "    </tr>\n",
              "    <tr>\n",
              "      <th>7</th>\n",
              "      <td>Hi.</td>\n",
              "      <td>Здоро́во!</td>\n",
              "    </tr>\n",
              "    <tr>\n",
              "      <th>8</th>\n",
              "      <td>Hi.</td>\n",
              "      <td>Приветик!</td>\n",
              "    </tr>\n",
              "    <tr>\n",
              "      <th>9</th>\n",
              "      <td>Run!</td>\n",
              "      <td>Беги!</td>\n",
              "    </tr>\n",
              "  </tbody>\n",
              "</table>\n",
              "</div>\n",
              "      <button class=\"colab-df-convert\" onclick=\"convertToInteractive('df-b102c6b6-f452-4374-849b-3fd95d6b80a7')\"\n",
              "              title=\"Convert this dataframe to an interactive table.\"\n",
              "              style=\"display:none;\">\n",
              "        \n",
              "  <svg xmlns=\"http://www.w3.org/2000/svg\" height=\"24px\"viewBox=\"0 0 24 24\"\n",
              "       width=\"24px\">\n",
              "    <path d=\"M0 0h24v24H0V0z\" fill=\"none\"/>\n",
              "    <path d=\"M18.56 5.44l.94 2.06.94-2.06 2.06-.94-2.06-.94-.94-2.06-.94 2.06-2.06.94zm-11 1L8.5 8.5l.94-2.06 2.06-.94-2.06-.94L8.5 2.5l-.94 2.06-2.06.94zm10 10l.94 2.06.94-2.06 2.06-.94-2.06-.94-.94-2.06-.94 2.06-2.06.94z\"/><path d=\"M17.41 7.96l-1.37-1.37c-.4-.4-.92-.59-1.43-.59-.52 0-1.04.2-1.43.59L10.3 9.45l-7.72 7.72c-.78.78-.78 2.05 0 2.83L4 21.41c.39.39.9.59 1.41.59.51 0 1.02-.2 1.41-.59l7.78-7.78 2.81-2.81c.8-.78.8-2.07 0-2.86zM5.41 20L4 18.59l7.72-7.72 1.47 1.35L5.41 20z\"/>\n",
              "  </svg>\n",
              "      </button>\n",
              "      \n",
              "  <style>\n",
              "    .colab-df-container {\n",
              "      display:flex;\n",
              "      flex-wrap:wrap;\n",
              "      gap: 12px;\n",
              "    }\n",
              "\n",
              "    .colab-df-convert {\n",
              "      background-color: #E8F0FE;\n",
              "      border: none;\n",
              "      border-radius: 50%;\n",
              "      cursor: pointer;\n",
              "      display: none;\n",
              "      fill: #1967D2;\n",
              "      height: 32px;\n",
              "      padding: 0 0 0 0;\n",
              "      width: 32px;\n",
              "    }\n",
              "\n",
              "    .colab-df-convert:hover {\n",
              "      background-color: #E2EBFA;\n",
              "      box-shadow: 0px 1px 2px rgba(60, 64, 67, 0.3), 0px 1px 3px 1px rgba(60, 64, 67, 0.15);\n",
              "      fill: #174EA6;\n",
              "    }\n",
              "\n",
              "    [theme=dark] .colab-df-convert {\n",
              "      background-color: #3B4455;\n",
              "      fill: #D2E3FC;\n",
              "    }\n",
              "\n",
              "    [theme=dark] .colab-df-convert:hover {\n",
              "      background-color: #434B5C;\n",
              "      box-shadow: 0px 1px 3px 1px rgba(0, 0, 0, 0.15);\n",
              "      filter: drop-shadow(0px 1px 2px rgba(0, 0, 0, 0.3));\n",
              "      fill: #FFFFFF;\n",
              "    }\n",
              "  </style>\n",
              "\n",
              "      <script>\n",
              "        const buttonEl =\n",
              "          document.querySelector('#df-b102c6b6-f452-4374-849b-3fd95d6b80a7 button.colab-df-convert');\n",
              "        buttonEl.style.display =\n",
              "          google.colab.kernel.accessAllowed ? 'block' : 'none';\n",
              "\n",
              "        async function convertToInteractive(key) {\n",
              "          const element = document.querySelector('#df-b102c6b6-f452-4374-849b-3fd95d6b80a7');\n",
              "          const dataTable =\n",
              "            await google.colab.kernel.invokeFunction('convertToInteractive',\n",
              "                                                     [key], {});\n",
              "          if (!dataTable) return;\n",
              "\n",
              "          const docLinkHtml = 'Like what you see? Visit the ' +\n",
              "            '<a target=\"_blank\" href=https://colab.research.google.com/notebooks/data_table.ipynb>data table notebook</a>'\n",
              "            + ' to learn more about interactive tables.';\n",
              "          element.innerHTML = '';\n",
              "          dataTable['output_type'] = 'display_data';\n",
              "          await google.colab.output.renderOutput(dataTable, element);\n",
              "          const docLink = document.createElement('div');\n",
              "          docLink.innerHTML = docLinkHtml;\n",
              "          element.appendChild(docLink);\n",
              "        }\n",
              "      </script>\n",
              "    </div>\n",
              "  </div>\n",
              "  "
            ]
          },
          "metadata": {},
          "execution_count": 11
        }
      ]
    },
    {
      "cell_type": "code",
      "source": [
        "df.info()"
      ],
      "metadata": {
        "colab": {
          "base_uri": "https://localhost:8080/"
        },
        "id": "ksVFPu4NRIrc",
        "outputId": "cb546d45-48a7-447b-c2e5-2fcf3b06606d"
      },
      "execution_count": 12,
      "outputs": [
        {
          "output_type": "stream",
          "name": "stdout",
          "text": [
            "<class 'pandas.core.frame.DataFrame'>\n",
            "RangeIndex: 444587 entries, 0 to 444586\n",
            "Data columns (total 2 columns):\n",
            " #   Column  Non-Null Count   Dtype \n",
            "---  ------  --------------   ----- \n",
            " 0   0       444587 non-null  object\n",
            " 1   1       444587 non-null  object\n",
            "dtypes: object(2)\n",
            "memory usage: 6.8+ MB\n"
          ]
        }
      ]
    },
    {
      "cell_type": "code",
      "source": [
        "df[0] = df[0].apply(lambda x: re.sub(r'[^a-zа-яё \\']+', '', x.lower()))\n",
        "df[1] = df[1].apply(lambda x: re.sub(r'[^a-zа-яё \\']+', '', x.lower()))\n",
        "df[0] = df[0].apply(lambda x: re.sub(r'\\s\\s+|\\'', ' ', x))\n",
        "df[1] = df[1].apply(lambda x: re.sub(r'\\s\\s+|\\'', ' ', x))"
      ],
      "metadata": {
        "id": "b26l7zXqRKU5"
      },
      "execution_count": 13,
      "outputs": []
    },
    {
      "cell_type": "code",
      "source": [
        "df.sample(n=10)"
      ],
      "metadata": {
        "colab": {
          "base_uri": "https://localhost:8080/",
          "height": 363
        },
        "id": "iMgykEQqRNeI",
        "outputId": "3cb4d23f-100d-4a09-ea11-2001eea47614"
      },
      "execution_count": 14,
      "outputs": [
        {
          "output_type": "execute_result",
          "data": {
            "text/plain": [
              "                                                        0  \\\n",
              "18203                                      should we sing   \n",
              "353433               what do you know about winter sports   \n",
              "205001                        do you think that scares me   \n",
              "48210                                   tom isn t leaving   \n",
              "440509  i managed to find a parking place right in fro...   \n",
              "314674                  the room became filled with smoke   \n",
              "425667  are you sure you don t want to go swimming wit...   \n",
              "165809                           you have to learn french   \n",
              "422122   the books that you re looking for are on my desk   \n",
              "72443                                 is that a challenge   \n",
              "\n",
              "                                                        1  \n",
              "18203                                           нам спеть  \n",
              "353433            что тебе известно о зимних видах спорта  \n",
              "205001                            думаешь меня это пугает  \n",
              "48210                                       том не уходит  \n",
              "440509  мне удалось найти место для парковки прямо нап...  \n",
              "314674                          комната наполнилась дымом  \n",
              "425667     ты уверен что не хочешь пойти с нами поплавать  \n",
              "165809                 вы должны выучить французский язык  \n",
              "422122       книги которые ты ищешь лежат у меня на столе  \n",
              "72443                                           это вызов  "
            ],
            "text/html": [
              "\n",
              "  <div id=\"df-41bf9a2d-126e-45b3-a7a5-e0ae25ac5498\">\n",
              "    <div class=\"colab-df-container\">\n",
              "      <div>\n",
              "<style scoped>\n",
              "    .dataframe tbody tr th:only-of-type {\n",
              "        vertical-align: middle;\n",
              "    }\n",
              "\n",
              "    .dataframe tbody tr th {\n",
              "        vertical-align: top;\n",
              "    }\n",
              "\n",
              "    .dataframe thead th {\n",
              "        text-align: right;\n",
              "    }\n",
              "</style>\n",
              "<table border=\"1\" class=\"dataframe\">\n",
              "  <thead>\n",
              "    <tr style=\"text-align: right;\">\n",
              "      <th></th>\n",
              "      <th>0</th>\n",
              "      <th>1</th>\n",
              "    </tr>\n",
              "  </thead>\n",
              "  <tbody>\n",
              "    <tr>\n",
              "      <th>18203</th>\n",
              "      <td>should we sing</td>\n",
              "      <td>нам спеть</td>\n",
              "    </tr>\n",
              "    <tr>\n",
              "      <th>353433</th>\n",
              "      <td>what do you know about winter sports</td>\n",
              "      <td>что тебе известно о зимних видах спорта</td>\n",
              "    </tr>\n",
              "    <tr>\n",
              "      <th>205001</th>\n",
              "      <td>do you think that scares me</td>\n",
              "      <td>думаешь меня это пугает</td>\n",
              "    </tr>\n",
              "    <tr>\n",
              "      <th>48210</th>\n",
              "      <td>tom isn t leaving</td>\n",
              "      <td>том не уходит</td>\n",
              "    </tr>\n",
              "    <tr>\n",
              "      <th>440509</th>\n",
              "      <td>i managed to find a parking place right in fro...</td>\n",
              "      <td>мне удалось найти место для парковки прямо нап...</td>\n",
              "    </tr>\n",
              "    <tr>\n",
              "      <th>314674</th>\n",
              "      <td>the room became filled with smoke</td>\n",
              "      <td>комната наполнилась дымом</td>\n",
              "    </tr>\n",
              "    <tr>\n",
              "      <th>425667</th>\n",
              "      <td>are you sure you don t want to go swimming wit...</td>\n",
              "      <td>ты уверен что не хочешь пойти с нами поплавать</td>\n",
              "    </tr>\n",
              "    <tr>\n",
              "      <th>165809</th>\n",
              "      <td>you have to learn french</td>\n",
              "      <td>вы должны выучить французский язык</td>\n",
              "    </tr>\n",
              "    <tr>\n",
              "      <th>422122</th>\n",
              "      <td>the books that you re looking for are on my desk</td>\n",
              "      <td>книги которые ты ищешь лежат у меня на столе</td>\n",
              "    </tr>\n",
              "    <tr>\n",
              "      <th>72443</th>\n",
              "      <td>is that a challenge</td>\n",
              "      <td>это вызов</td>\n",
              "    </tr>\n",
              "  </tbody>\n",
              "</table>\n",
              "</div>\n",
              "      <button class=\"colab-df-convert\" onclick=\"convertToInteractive('df-41bf9a2d-126e-45b3-a7a5-e0ae25ac5498')\"\n",
              "              title=\"Convert this dataframe to an interactive table.\"\n",
              "              style=\"display:none;\">\n",
              "        \n",
              "  <svg xmlns=\"http://www.w3.org/2000/svg\" height=\"24px\"viewBox=\"0 0 24 24\"\n",
              "       width=\"24px\">\n",
              "    <path d=\"M0 0h24v24H0V0z\" fill=\"none\"/>\n",
              "    <path d=\"M18.56 5.44l.94 2.06.94-2.06 2.06-.94-2.06-.94-.94-2.06-.94 2.06-2.06.94zm-11 1L8.5 8.5l.94-2.06 2.06-.94-2.06-.94L8.5 2.5l-.94 2.06-2.06.94zm10 10l.94 2.06.94-2.06 2.06-.94-2.06-.94-.94-2.06-.94 2.06-2.06.94z\"/><path d=\"M17.41 7.96l-1.37-1.37c-.4-.4-.92-.59-1.43-.59-.52 0-1.04.2-1.43.59L10.3 9.45l-7.72 7.72c-.78.78-.78 2.05 0 2.83L4 21.41c.39.39.9.59 1.41.59.51 0 1.02-.2 1.41-.59l7.78-7.78 2.81-2.81c.8-.78.8-2.07 0-2.86zM5.41 20L4 18.59l7.72-7.72 1.47 1.35L5.41 20z\"/>\n",
              "  </svg>\n",
              "      </button>\n",
              "      \n",
              "  <style>\n",
              "    .colab-df-container {\n",
              "      display:flex;\n",
              "      flex-wrap:wrap;\n",
              "      gap: 12px;\n",
              "    }\n",
              "\n",
              "    .colab-df-convert {\n",
              "      background-color: #E8F0FE;\n",
              "      border: none;\n",
              "      border-radius: 50%;\n",
              "      cursor: pointer;\n",
              "      display: none;\n",
              "      fill: #1967D2;\n",
              "      height: 32px;\n",
              "      padding: 0 0 0 0;\n",
              "      width: 32px;\n",
              "    }\n",
              "\n",
              "    .colab-df-convert:hover {\n",
              "      background-color: #E2EBFA;\n",
              "      box-shadow: 0px 1px 2px rgba(60, 64, 67, 0.3), 0px 1px 3px 1px rgba(60, 64, 67, 0.15);\n",
              "      fill: #174EA6;\n",
              "    }\n",
              "\n",
              "    [theme=dark] .colab-df-convert {\n",
              "      background-color: #3B4455;\n",
              "      fill: #D2E3FC;\n",
              "    }\n",
              "\n",
              "    [theme=dark] .colab-df-convert:hover {\n",
              "      background-color: #434B5C;\n",
              "      box-shadow: 0px 1px 3px 1px rgba(0, 0, 0, 0.15);\n",
              "      filter: drop-shadow(0px 1px 2px rgba(0, 0, 0, 0.3));\n",
              "      fill: #FFFFFF;\n",
              "    }\n",
              "  </style>\n",
              "\n",
              "      <script>\n",
              "        const buttonEl =\n",
              "          document.querySelector('#df-41bf9a2d-126e-45b3-a7a5-e0ae25ac5498 button.colab-df-convert');\n",
              "        buttonEl.style.display =\n",
              "          google.colab.kernel.accessAllowed ? 'block' : 'none';\n",
              "\n",
              "        async function convertToInteractive(key) {\n",
              "          const element = document.querySelector('#df-41bf9a2d-126e-45b3-a7a5-e0ae25ac5498');\n",
              "          const dataTable =\n",
              "            await google.colab.kernel.invokeFunction('convertToInteractive',\n",
              "                                                     [key], {});\n",
              "          if (!dataTable) return;\n",
              "\n",
              "          const docLinkHtml = 'Like what you see? Visit the ' +\n",
              "            '<a target=\"_blank\" href=https://colab.research.google.com/notebooks/data_table.ipynb>data table notebook</a>'\n",
              "            + ' to learn more about interactive tables.';\n",
              "          element.innerHTML = '';\n",
              "          dataTable['output_type'] = 'display_data';\n",
              "          await google.colab.output.renderOutput(dataTable, element);\n",
              "          const docLink = document.createElement('div');\n",
              "          docLink.innerHTML = docLinkHtml;\n",
              "          element.appendChild(docLink);\n",
              "        }\n",
              "      </script>\n",
              "    </div>\n",
              "  </div>\n",
              "  "
            ]
          },
          "metadata": {},
          "execution_count": 14
        }
      ]
    },
    {
      "cell_type": "code",
      "source": [
        "MAX_LENGTH = 10\n",
        "\n",
        "eng_prefixes = (\n",
        "    \"i am \", \"i m \",\n",
        "    \"he is\", \"he s \",\n",
        "    \"she is\", \"she s\",\n",
        "    \"you are\", \"you re \",\n",
        "    \"we are\", \"we re \",\n",
        "    \"they are\", \"they re \"\n",
        ")\n",
        "\n",
        "\n",
        "def filterPair(p):\n",
        "    return len(p[0].split(' ')) < MAX_LENGTH and \\\n",
        "        len(p[1].split(' ')) < MAX_LENGTH and \\\n",
        "        p[0].startswith(eng_prefixes)\n",
        "\n",
        "\n",
        "def filterPairs(pairs):\n",
        "    return [pair for pair in pairs if filterPair(pair)]"
      ],
      "metadata": {
        "id": "g8Yb7Nq_RRU9"
      },
      "execution_count": 15,
      "outputs": []
    },
    {
      "cell_type": "code",
      "source": [
        "pairs = list(zip(df[0].tolist(), df[1].tolist()))"
      ],
      "metadata": {
        "id": "4LFE8tIKRT5R"
      },
      "execution_count": 16,
      "outputs": []
    },
    {
      "cell_type": "code",
      "source": [
        "del df"
      ],
      "metadata": {
        "id": "OYjjA-6qRWOb"
      },
      "execution_count": 17,
      "outputs": []
    },
    {
      "cell_type": "code",
      "source": [
        "pairs = filterPairs(pairs)"
      ],
      "metadata": {
        "id": "Y-xMKWx9RaoE"
      },
      "execution_count": 18,
      "outputs": []
    },
    {
      "cell_type": "code",
      "source": [
        "len(pairs)"
      ],
      "metadata": {
        "colab": {
          "base_uri": "https://localhost:8080/"
        },
        "id": "y8cRZfQVRb8Y",
        "outputId": "605a73ef-0297-47d7-e959-b61a7dde15e1"
      },
      "execution_count": 19,
      "outputs": [
        {
          "output_type": "execute_result",
          "data": {
            "text/plain": [
              "28107"
            ]
          },
          "metadata": {},
          "execution_count": 19
        }
      ]
    },
    {
      "cell_type": "code",
      "source": [
        "eng_dict = ['SOS', 'EOS'] + sorted(\n",
        "    list(set(chain.from_iterable([pair[0].split() for pair in pairs])))\n",
        "    )"
      ],
      "metadata": {
        "id": "-_3guoE7RdSE"
      },
      "execution_count": 20,
      "outputs": []
    },
    {
      "cell_type": "code",
      "source": [
        "len(eng_dict)"
      ],
      "metadata": {
        "colab": {
          "base_uri": "https://localhost:8080/"
        },
        "id": "AS-A3yvQRiDw",
        "outputId": "6c07aaa8-f2c8-47c1-a6ff-edb07619fc59"
      },
      "execution_count": 21,
      "outputs": [
        {
          "output_type": "execute_result",
          "data": {
            "text/plain": [
              "4367"
            ]
          },
          "metadata": {},
          "execution_count": 21
        }
      ]
    },
    {
      "cell_type": "code",
      "source": [
        "eng_dict[:10]"
      ],
      "metadata": {
        "colab": {
          "base_uri": "https://localhost:8080/"
        },
        "id": "FGFR0lNyRicl",
        "outputId": "0c04c364-eb00-409a-efc1-7dde214e19a9"
      },
      "execution_count": 22,
      "outputs": [
        {
          "output_type": "execute_result",
          "data": {
            "text/plain": [
              "['SOS',\n",
              " 'EOS',\n",
              " 'a',\n",
              " 'abandon',\n",
              " 'ability',\n",
              " 'able',\n",
              " 'aboard',\n",
              " 'about',\n",
              " 'above',\n",
              " 'abroad']"
            ]
          },
          "metadata": {},
          "execution_count": 22
        }
      ]
    },
    {
      "cell_type": "code",
      "source": [
        "rus_dict = ['SOS', 'EOS'] + sorted(\n",
        "    list(set(chain.from_iterable([pair[1].split() for pair in pairs])))\n",
        "    )"
      ],
      "metadata": {
        "id": "rAMadBH2RkSJ"
      },
      "execution_count": 23,
      "outputs": []
    },
    {
      "cell_type": "code",
      "source": [
        "len(rus_dict)"
      ],
      "metadata": {
        "colab": {
          "base_uri": "https://localhost:8080/"
        },
        "id": "WpYHcl07Rm1e",
        "outputId": "7260517e-9882-4446-eabd-2405637339a2"
      },
      "execution_count": 24,
      "outputs": [
        {
          "output_type": "execute_result",
          "data": {
            "text/plain": [
              "10478"
            ]
          },
          "metadata": {},
          "execution_count": 24
        }
      ]
    },
    {
      "cell_type": "code",
      "source": [
        "rus_dict[:10]"
      ],
      "metadata": {
        "colab": {
          "base_uri": "https://localhost:8080/"
        },
        "id": "50Zt0aMdRoMr",
        "outputId": "723eaca9-4642-461f-bc76-660ef7220a25"
      },
      "execution_count": 25,
      "outputs": [
        {
          "output_type": "execute_result",
          "data": {
            "text/plain": [
              "['SOS',\n",
              " 'EOS',\n",
              " 'android',\n",
              " 'linux',\n",
              " 'windows',\n",
              " 'а',\n",
              " 'абсолютно',\n",
              " 'абсолютной',\n",
              " 'авантюрен',\n",
              " 'авантюризма']"
            ]
          },
          "metadata": {},
          "execution_count": 25
        }
      ]
    },
    {
      "cell_type": "code",
      "source": [
        "eng_to_idx = {elem: i for i, elem in enumerate(eng_dict)}\n",
        "rus_to_idx = {elem: i for i, elem in enumerate(rus_dict)}"
      ],
      "metadata": {
        "id": "eUmrBL-HRpiA"
      },
      "execution_count": 26,
      "outputs": []
    },
    {
      "cell_type": "code",
      "source": [
        "def tensors_from_pair(pair):\n",
        "    eng_idx = [0] + [eng_to_idx[word] for word in pair[0].split()]\n",
        "    eng_idx += [1] * (MAX_LENGTH + 1 - len(pair[0].split()))\n",
        "    rus_idx = [0] + [rus_to_idx[word] for word in pair[1].split()]\n",
        "    rus_idx += [1] * (MAX_LENGTH + 1 - len(pair[1].split()))\n",
        "    eng_tensor = torch.tensor(eng_idx, dtype=torch.long,\n",
        "                              device=device).view(-1, 1)\n",
        "    rus_tensor = torch.tensor(rus_idx, dtype=torch.long,\n",
        "                              device=device).view(-1, 1)\n",
        "    return (eng_tensor, rus_tensor)"
      ],
      "metadata": {
        "id": "F-O4G_YQRrqx"
      },
      "execution_count": 27,
      "outputs": []
    },
    {
      "cell_type": "code",
      "source": [
        "pair = pairs[np.random.randint(27003)]\n",
        "print(pair)\n",
        "print(tensors_from_pair(pair))"
      ],
      "metadata": {
        "colab": {
          "base_uri": "https://localhost:8080/"
        },
        "id": "NCeJqL2HRuFi",
        "outputId": "1bc5bad3-d1de-413a-cc50-fac7ce3ebfc8"
      },
      "execution_count": 28,
      "outputs": [
        {
          "output_type": "stream",
          "name": "stdout",
          "text": [
            "('i m really excited for tom', 'я очень рад за тома')\n",
            "(tensor([[   0],\n",
            "        [1905],\n",
            "        [2294],\n",
            "        [3048],\n",
            "        [1314],\n",
            "        [1500],\n",
            "        [3940],\n",
            "        [   1],\n",
            "        [   1],\n",
            "        [   1],\n",
            "        [   1],\n",
            "        [   1]], device='cuda:0'), tensor([[    0],\n",
            "        [10431],\n",
            "        [ 5655],\n",
            "        [ 7484],\n",
            "        [ 2283],\n",
            "        [ 9244],\n",
            "        [    1],\n",
            "        [    1],\n",
            "        [    1],\n",
            "        [    1],\n",
            "        [    1],\n",
            "        [    1]], device='cuda:0'))\n"
          ]
        }
      ]
    },
    {
      "cell_type": "markdown",
      "source": [
        "##### Encoder"
      ],
      "metadata": {
        "id": "SirLgPwrRz5U"
      }
    },
    {
      "cell_type": "code",
      "source": [
        "class EncoderRNN(nn.Module):\n",
        "    def __init__(self, input_size, hidden_size):\n",
        "        super(EncoderRNN, self).__init__()\n",
        "        self.hidden_size = hidden_size\n",
        "\n",
        "        self.embedding = nn.Embedding(input_size, hidden_size)\n",
        "        self.gru = nn.GRU(hidden_size, hidden_size)\n",
        "\n",
        "    def forward(self, input, hidden):\n",
        "        output = self.embedding(input).view(1, 1, -1)\n",
        "        output, hidden = self.gru(output, hidden)\n",
        "        return output, hidden\n",
        "\n",
        "    def initHidden(self):\n",
        "        return torch.zeros(1, 1, self.hidden_size, device=device)"
      ],
      "metadata": {
        "id": "xRC9FffRRvmL"
      },
      "execution_count": 29,
      "outputs": []
    },
    {
      "cell_type": "markdown",
      "source": [
        "##### Attention Decoder (на скалярном произведении)"
      ],
      "metadata": {
        "id": "C3tZ2dtUR78i"
      }
    },
    {
      "cell_type": "code",
      "source": [
        "class AttnDecoderRNN(nn.Module):\n",
        "    def __init__(self, hidden_size, output_size, dropout_p=0.1,\n",
        "                 max_length=MAX_LENGTH):\n",
        "        super(AttnDecoderRNN, self).__init__()\n",
        "        self.hidden_size = hidden_size\n",
        "        self.output_size = output_size\n",
        "        self.dropout_p = dropout_p\n",
        "        self.max_length = max_length + 2\n",
        "\n",
        "        self.embedding = nn.Embedding(self.output_size, self.hidden_size)\n",
        "        self.dropout = nn.Dropout(self.dropout_p)\n",
        "        self.attn_combine = nn.Linear(self.hidden_size * 2, self.hidden_size)\n",
        "        self.gru = nn.GRU(self.hidden_size, self.hidden_size)\n",
        "        self.out = nn.Linear(self.hidden_size, self.output_size)\n",
        "\n",
        "    def forward(self, input, hidden, encoder_outputs):\n",
        "        embedded = self.embedding(input).view(1, 1, -1)\n",
        "        embedded = self.dropout(embedded)\n",
        "\n",
        "        weights = []\n",
        "        for i in range(len(encoder_outputs)):\n",
        "            weights.append(\n",
        "                torch.div(torch.matmul(hidden[0][0], encoder_outputs[i]),\n",
        "                          torch.sqrt(\n",
        "                              torch.tensor(self.max_length, dtype=torch.float,\n",
        "                                           device=device))\n",
        "                          )\n",
        "                )\n",
        "        attn_weights = F.softmax(torch.tensor(weights, device=device))\n",
        "\n",
        "        attn_applied = torch.bmm(attn_weights.unsqueeze(0).unsqueeze(0),\n",
        "                                 encoder_outputs.view(1, -1, self.hidden_size)\n",
        "                                 )\n",
        "\n",
        "        output = torch.cat((attn_applied[0], embedded[0]), 1)\n",
        "        output = self.attn_combine(output).unsqueeze(0)\n",
        "\n",
        "        output = F.relu(output)\n",
        "        output, hidden = self.gru(output, hidden)\n",
        "\n",
        "        output = F.log_softmax(self.out(output[0]), dim=1)\n",
        "        return output, hidden, attn_weights\n",
        "\n",
        "    def initHidden(self):\n",
        "        return torch.zeros(1, 1, self.hidden_size, device=device)"
      ],
      "metadata": {
        "id": "JmV5kDUdR9UA"
      },
      "execution_count": 30,
      "outputs": []
    },
    {
      "cell_type": "markdown",
      "source": [
        "##### Функции для обучения и оценки качества"
      ],
      "metadata": {
        "id": "_ihALOy3SGGP"
      }
    },
    {
      "cell_type": "code",
      "source": [
        "teacher_forcing_ratio = 0.5"
      ],
      "metadata": {
        "id": "QU87tOrSSHmp"
      },
      "execution_count": 31,
      "outputs": []
    },
    {
      "cell_type": "code",
      "source": [
        "def train(input_tensor, target_tensor, encoder, decoder,\n",
        "          encoder_optimizer, decoder_optimizer, criterion, max_len=MAX_LENGTH):\n",
        "    encoder_hidden = encoder.initHidden()\n",
        "\n",
        "    encoder_optimizer.zero_grad()\n",
        "    decoder_optimizer.zero_grad()\n",
        "\n",
        "    encoder_outputs = torch.zeros(max_len + 2, encoder.hidden_size,\n",
        "                                  device=device)\n",
        "    loss = 0\n",
        "\n",
        "    for i in range(input_tensor.size(0)):\n",
        "        encoder_output, encoder_hidden = encoder(input_tensor[i],\n",
        "                                                 encoder_hidden)\n",
        "        encoder_outputs[i] = encoder_output[0, 0]\n",
        "\n",
        "    decoder_input = torch.tensor([[0]], device=device)\n",
        "    decoder_hidden = encoder_hidden\n",
        "\n",
        "    if np.random.random() < teacher_forcing_ratio:\n",
        "        use_teacher_forcing = True\n",
        "    else:\n",
        "        use_teacher_forcing = False\n",
        "\n",
        "    for i in range(target_tensor.size(0)):\n",
        "        decoder_output, decoder_hidden, decoder_attention = decoder(\n",
        "            decoder_input, decoder_hidden, encoder_outputs\n",
        "            )\n",
        "        loss += criterion(decoder_output, target_tensor[i])\n",
        "        if use_teacher_forcing:\n",
        "            # teacher forcing: feed the target as the next input\n",
        "            decoder_input = target_tensor[i]\n",
        "        else:\n",
        "            # use its own predictions as the next input\n",
        "            topv, topi = decoder_output.topk(1)\n",
        "            decoder_input = topi.squeeze().detach()\n",
        "            if decoder_input.item() == 1:\n",
        "                break\n",
        "\n",
        "    loss.backward()\n",
        "\n",
        "    encoder_optimizer.step()\n",
        "    decoder_optimizer.step()\n",
        "\n",
        "    return loss.item() / target_tensor.size(0)"
      ],
      "metadata": {
        "id": "FlnrijshSKKa"
      },
      "execution_count": 32,
      "outputs": []
    },
    {
      "cell_type": "code",
      "source": [
        "def train_epochs(encoder, decoder, n_epochs=75000, learning_rate=0.01):\n",
        "    start = datetime.now()\n",
        "    plot_losses = []\n",
        "    print_loss = 0 # reset every 5000 epochs\n",
        "    plot_loss = 0 # reset every 100 epochs\n",
        "    encoder_optimizer = optim.SGD(encoder.parameters(), lr=learning_rate)\n",
        "    decoder_optimizer = optim.SGD(decoder.parameters(), lr=learning_rate)\n",
        "    training_pairs = [tensors_from_pair(pairs[np.random.randint(27003)])\n",
        "                      for epoch in range(n_epochs)]\n",
        "    criterion = nn.NLLLoss()\n",
        "\n",
        "    for epoch in tqdm(range(n_epochs)):\n",
        "        training_pair = training_pairs[epoch]\n",
        "        input_tensor = training_pair[0]\n",
        "        target_tensor = training_pair[1]\n",
        "\n",
        "        loss = train(input_tensor, target_tensor, encoder, decoder,\n",
        "                     encoder_optimizer, decoder_optimizer, criterion)\n",
        "        print_loss += loss\n",
        "        plot_loss += loss\n",
        "\n",
        "        if (epoch + 1) % 5000 == 0:\n",
        "            print_loss /= 5000\n",
        "            delta = datetime.now() - start\n",
        "            stats = f'''\n",
        "            Epoch {epoch + 1} ({(epoch + 1) * 100 / n_epochs:.1f}%)\n",
        "            Time: {delta.seconds // 60}m {delta.seconds % 60}s\n",
        "            Loss: {print_loss:.4f}\n",
        "            '''\n",
        "            print(stats)\n",
        "            print_loss = 0\n",
        "\n",
        "        if (epoch + 1) % 100 == 0:\n",
        "            plot_loss /= 100\n",
        "            plot_losses.append(plot_loss)\n",
        "            plot_loss = 0\n",
        "    return plot_losses"
      ],
      "metadata": {
        "id": "cQM0Du0WSMmH"
      },
      "execution_count": 33,
      "outputs": []
    },
    {
      "cell_type": "code",
      "source": [
        "def show_losses(losses):\n",
        "    plt.figure(figsize=(14, 12))\n",
        "    fig, ax = plt.subplots()\n",
        "    loc = ticker.MultipleLocator(base=0.2)\n",
        "    ax.yaxis.set_major_locator(loc)\n",
        "    plt.plot(losses)\n",
        "    plt.show()"
      ],
      "metadata": {
        "id": "vMvBKVf7SPA2"
      },
      "execution_count": 34,
      "outputs": []
    },
    {
      "cell_type": "code",
      "source": [
        "def evaluate(encoder, decoder, sent, max_len=MAX_LENGTH):\n",
        "    with torch.no_grad():\n",
        "        idx = [0] + [eng_to_idx[word] for word in sent.split()]\n",
        "        idx += [1] * (max_len + 1 - len(sent.split()))\n",
        "        input_tensor = torch.tensor(idx, dtype=torch.long,\n",
        "                                    device=device).view(-1, 1)\n",
        "        encoder_hidden = encoder.initHidden()\n",
        "        encoder_outputs = torch.zeros(max_len + 2, encoder.hidden_size,\n",
        "                                      device=device)\n",
        "\n",
        "        for i in range(input_tensor.size()[0]):\n",
        "            encoder_output, encoder_hidden = encoder(input_tensor[i],\n",
        "                                                     encoder_hidden)\n",
        "            encoder_outputs[i] = encoder_output[0, 0]\n",
        "\n",
        "        decoder_input = torch.tensor([[0]], device=device)\n",
        "        decoder_hidden = encoder_hidden\n",
        "        decoded_words = []\n",
        "        decoder_attentions = torch.zeros(max_len + 2, max_len + 2)\n",
        "\n",
        "        for i in range(max_len + 2):\n",
        "            decoder_output, decoder_hidden, decoder_attention = decoder(\n",
        "                decoder_input, decoder_hidden, encoder_outputs)\n",
        "            decoder_attentions[i] = decoder_attention.data\n",
        "            topv, topi = decoder_output.data.topk(1)\n",
        "            if topi.item() == 1:\n",
        "                break\n",
        "            decoded_words.append(rus_dict[topi.item()])\n",
        "            decoder_input = topi.squeeze().detach()\n",
        "\n",
        "        return decoded_words, decoder_attentions"
      ],
      "metadata": {
        "id": "JJMGvnV_SR1v"
      },
      "execution_count": 35,
      "outputs": []
    },
    {
      "cell_type": "code",
      "source": [
        "def evaluate_random(encoder, decoder, n=10):\n",
        "    for i in range(n):\n",
        "        pair = pairs[np.random.randint(27003)]\n",
        "        pred = \" \".join(evaluate(encoder, decoder, pair[0])[0][1:])\n",
        "        res = f'''\n",
        "        Eng:  {pair[0]}\n",
        "        Rus:  {pair[1]}\n",
        "        Pred: {pred}\n",
        "        '''\n",
        "        print(res)"
      ],
      "metadata": {
        "id": "5IDarFw6SUQi"
      },
      "execution_count": 36,
      "outputs": []
    },
    {
      "cell_type": "markdown",
      "source": [
        "##### Обучение и оценка качества"
      ],
      "metadata": {
        "id": "oyFT7YVXSXJr"
      }
    },
    {
      "cell_type": "code",
      "source": [
        "hidden_size = 256"
      ],
      "metadata": {
        "id": "lmB3E-6SSWbI"
      },
      "execution_count": 37,
      "outputs": []
    },
    {
      "cell_type": "code",
      "source": [
        "encoder = EncoderRNN(len(eng_dict), hidden_size).to(device)"
      ],
      "metadata": {
        "id": "k3-jv68nSbgC"
      },
      "execution_count": 38,
      "outputs": []
    },
    {
      "cell_type": "code",
      "source": [
        "attn_decoder = AttnDecoderRNN(hidden_size, len(rus_dict)).to(device)"
      ],
      "metadata": {
        "id": "oq6Vc_yHSdQ9"
      },
      "execution_count": 39,
      "outputs": []
    },
    {
      "cell_type": "code",
      "source": [
        "losses = train_epochs(encoder, attn_decoder)"
      ],
      "metadata": {
        "colab": {
          "base_uri": "https://localhost:8080/",
          "height": 1000,
          "referenced_widgets": [
            "378d00c4f3cd405ab62659b8d98a8b5c",
            "5ec7ceb55669466ea527c847c8711fd8",
            "e68d18b52fd646ed9919ba5c1844d5cf",
            "b1d6deca0c3c4b669bc7c038d0b3c129",
            "b27d8d192950440eb8f73b128cac9f2d",
            "3bc1693e943347f5b009f2287a2f26cb",
            "3260790db19e46ce92bbeb4a3ce42896",
            "dc00f53245b54d89ad8432d623d6db8f",
            "215c199f3d694895a062d1c5aac4ee04",
            "54ce835aa9bc44f592f3cd5341733dc1",
            "c6e423826b08466f955fe41d152bc0d4"
          ]
        },
        "id": "-UvXjeTFSfzo",
        "outputId": "277161ac-3991-4ecd-e127-6116e8ef39d8"
      },
      "execution_count": 40,
      "outputs": [
        {
          "output_type": "display_data",
          "data": {
            "text/plain": [
              "  0%|          | 0/75000 [00:00<?, ?it/s]"
            ],
            "application/vnd.jupyter.widget-view+json": {
              "version_major": 2,
              "version_minor": 0,
              "model_id": "378d00c4f3cd405ab62659b8d98a8b5c"
            }
          },
          "metadata": {}
        },
        {
          "output_type": "stream",
          "name": "stdout",
          "text": [
            "\n",
            "            Epoch 5000 (6.7%)\n",
            "            Time: 2m 52s\n",
            "            Loss: 1.9219\n",
            "            \n",
            "\n",
            "            Epoch 10000 (13.3%)\n",
            "            Time: 5m 40s\n",
            "            Loss: 1.7428\n",
            "            \n",
            "\n",
            "            Epoch 15000 (20.0%)\n",
            "            Time: 8m 20s\n",
            "            Loss: 1.5992\n",
            "            \n",
            "\n",
            "            Epoch 20000 (26.7%)\n",
            "            Time: 10m 53s\n",
            "            Loss: 1.5071\n",
            "            \n",
            "\n",
            "            Epoch 25000 (33.3%)\n",
            "            Time: 13m 26s\n",
            "            Loss: 1.3904\n",
            "            \n",
            "\n",
            "            Epoch 30000 (40.0%)\n",
            "            Time: 15m 59s\n",
            "            Loss: 1.3013\n",
            "            \n",
            "\n",
            "            Epoch 35000 (46.7%)\n",
            "            Time: 18m 33s\n",
            "            Loss: 1.2446\n",
            "            \n",
            "\n",
            "            Epoch 40000 (53.3%)\n",
            "            Time: 21m 5s\n",
            "            Loss: 1.1701\n",
            "            \n",
            "\n",
            "            Epoch 45000 (60.0%)\n",
            "            Time: 23m 40s\n",
            "            Loss: 1.1260\n",
            "            \n",
            "\n",
            "            Epoch 50000 (66.7%)\n",
            "            Time: 26m 13s\n",
            "            Loss: 1.0846\n",
            "            \n",
            "\n",
            "            Epoch 55000 (73.3%)\n",
            "            Time: 28m 49s\n",
            "            Loss: 1.0341\n",
            "            \n",
            "\n",
            "            Epoch 60000 (80.0%)\n",
            "            Time: 31m 23s\n",
            "            Loss: 0.9909\n",
            "            \n",
            "\n",
            "            Epoch 65000 (86.7%)\n",
            "            Time: 33m 56s\n",
            "            Loss: 0.9529\n",
            "            \n",
            "\n",
            "            Epoch 70000 (93.3%)\n",
            "            Time: 36m 32s\n",
            "            Loss: 0.9130\n",
            "            \n",
            "\n",
            "            Epoch 75000 (100.0%)\n",
            "            Time: 39m 8s\n",
            "            Loss: 0.8726\n",
            "            \n"
          ]
        }
      ]
    },
    {
      "cell_type": "code",
      "source": [
        "show_losses(losses)"
      ],
      "metadata": {
        "colab": {
          "base_uri": "https://localhost:8080/",
          "height": 282
        },
        "id": "TxRi9c-qShWs",
        "outputId": "b8a91ad3-b031-412a-dfeb-c8819d6b774a"
      },
      "execution_count": 41,
      "outputs": [
        {
          "output_type": "display_data",
          "data": {
            "text/plain": [
              "<Figure size 1008x864 with 0 Axes>"
            ]
          },
          "metadata": {}
        },
        {
          "output_type": "display_data",
          "data": {
            "text/plain": [
              "<Figure size 432x288 with 1 Axes>"
            ],
            "image/png": "[encoded data removed]"
          },
          "metadata": {
            "needs_background": "light"
          }
        }
      ]
    },
    {
      "cell_type": "markdown",
      "source": [
        "Лосс стабильно падает, финальный лосс – 0.8726. Посмотрим на генерацию предложений."
      ],
      "metadata": {
        "id": "whKwlKrpSrTr"
      }
    },
    {
      "cell_type": "code",
      "source": [
        "evaluate_random(encoder, attn_decoder)"
      ],
      "metadata": {
        "colab": {
          "base_uri": "https://localhost:8080/"
        },
        "id": "9aJileHwSoz4",
        "outputId": "9ae974eb-408d-4724-b3b4-89a74e71acd9"
      },
      "execution_count": 42,
      "outputs": [
        {
          "output_type": "stream",
          "name": "stdout",
          "text": [
            "\n",
            "        Eng:  i m tired of your endless complaints\n",
            "        Rus:  я устала от ваших бесконечных жалоб\n",
            "        Pred: я устал от твоих бесконечных жалоб\n",
            "        \n",
            "\n",
            "        Eng:  i m still active\n",
            "        Rus:  я попрежнему активна\n",
            "        Pred: я ещё учусь\n",
            "        \n",
            "\n",
            "        Eng:  i m not giving you any money\n",
            "        Rus:  не дам я тебе никаких денег\n",
            "        Pred: я не собираюсь тебе никаких денег\n",
            "        \n",
            "\n",
            "        Eng:  you re a good kisser\n",
            "        Rus:  вы хорошо целуетесь\n",
            "        Pred: ты хороший целуешься\n",
            "        \n",
            "\n",
            "        Eng:  i m sorry i just wanted to help\n",
            "        Rus:  извините я просто хотел помочь\n",
            "        Pred: я очень рад что могу помочь помочь\n",
            "        \n",
            "\n",
            "        Eng:  you re my guest\n",
            "        Rus:  ты мой гость\n",
            "        Pred: ты же в гостях\n",
            "        \n",
            "\n",
            "        Eng:  she is busy learning english\n",
            "        Rus:  она занята изучением английского языка\n",
            "        Pred: она занята занята английского\n",
            "        \n",
            "\n",
            "        Eng:  we aren t blaming you\n",
            "        Rus:  мы вас не обвиняем\n",
            "        Pred: мы тебя не обвиняем\n",
            "        \n",
            "\n",
            "        Eng:  you re always criticizing me\n",
            "        Rus:  ты всегда меня критикуешь\n",
            "        Pred: ты всегда меня на меня\n",
            "        \n",
            "\n",
            "        Eng:  i m waiting for an explanation\n",
            "        Rus:  я жду объяснений\n",
            "        Pred: я жду жду\n",
            "        \n"
          ]
        }
      ]
    },
    {
      "cell_type": "markdown",
      "source": [
        "Два случайное предложение переведено полностью правильно, и 3 – правильно по смыслу (если учесть, что в английском нет родов и разграничения на \"ты\" и \"вы\")!"
      ],
      "metadata": {
        "id": "lBfmNXcASzKM"
      }
    },
    {
      "cell_type": "code",
      "source": [
        "pair = pairs[np.random.randint(27003)]\n",
        "print(pair)"
      ],
      "metadata": {
        "colab": {
          "base_uri": "https://localhost:8080/"
        },
        "id": "tNnRDQ1nSv3t",
        "outputId": "44a0439e-99e7-4a72-93d2-80c18c8686c2"
      },
      "execution_count": 43,
      "outputs": [
        {
          "output_type": "stream",
          "name": "stdout",
          "text": [
            "('you re aggressive', 'ты агрессивна')\n"
          ]
        }
      ]
    },
    {
      "cell_type": "code",
      "source": [
        "output_words, attentions = evaluate(\n",
        "    encoder, attn_decoder, pair[0])"
      ],
      "metadata": {
        "id": "Iudbb7yvS103"
      },
      "execution_count": 44,
      "outputs": []
    },
    {
      "cell_type": "code",
      "source": [
        "attentions"
      ],
      "metadata": {
        "colab": {
          "base_uri": "https://localhost:8080/"
        },
        "id": "K7L4hv6tS3fK",
        "outputId": "a1656f85-ba6a-407a-e2bb-34199462aaa2"
      },
      "execution_count": 45,
      "outputs": [
        {
          "output_type": "execute_result",
          "data": {
            "text/plain": [
              "tensor([[2.8687e-21, 8.4738e-20, 1.6695e-16, 1.8523e-10, 3.0607e-06, 4.9736e-04,\n",
              "         1.1925e-02, 5.9842e-02, 1.3450e-01, 2.0825e-01, 2.6908e-01, 3.1589e-01],\n",
              "        [2.9827e-14, 3.6826e-13, 2.8067e-10, 1.0411e-04, 3.5302e-03, 3.2631e-02,\n",
              "         1.0815e-01, 1.5864e-01, 1.7414e-01, 1.7626e-01, 1.7457e-01, 1.7199e-01],\n",
              "        [2.3576e-10, 1.0962e-09, 2.7246e-07, 1.2226e-01, 1.0756e-01, 1.5954e-01,\n",
              "         1.7549e-01, 1.3288e-01, 9.9430e-02, 7.9104e-02, 6.6228e-02, 5.7511e-02],\n",
              "        [5.9151e-09, 1.0061e-07, 2.4713e-05, 7.8311e-01, 2.8675e-02, 2.5668e-02,\n",
              "         3.4379e-02, 3.2194e-02, 2.8276e-02, 2.4990e-02, 2.2378e-02, 2.0305e-02],\n",
              "        [0.0000e+00, 0.0000e+00, 0.0000e+00, 0.0000e+00, 0.0000e+00, 0.0000e+00,\n",
              "         0.0000e+00, 0.0000e+00, 0.0000e+00, 0.0000e+00, 0.0000e+00, 0.0000e+00],\n",
              "        [0.0000e+00, 0.0000e+00, 0.0000e+00, 0.0000e+00, 0.0000e+00, 0.0000e+00,\n",
              "         0.0000e+00, 0.0000e+00, 0.0000e+00, 0.0000e+00, 0.0000e+00, 0.0000e+00],\n",
              "        [0.0000e+00, 0.0000e+00, 0.0000e+00, 0.0000e+00, 0.0000e+00, 0.0000e+00,\n",
              "         0.0000e+00, 0.0000e+00, 0.0000e+00, 0.0000e+00, 0.0000e+00, 0.0000e+00],\n",
              "        [0.0000e+00, 0.0000e+00, 0.0000e+00, 0.0000e+00, 0.0000e+00, 0.0000e+00,\n",
              "         0.0000e+00, 0.0000e+00, 0.0000e+00, 0.0000e+00, 0.0000e+00, 0.0000e+00],\n",
              "        [0.0000e+00, 0.0000e+00, 0.0000e+00, 0.0000e+00, 0.0000e+00, 0.0000e+00,\n",
              "         0.0000e+00, 0.0000e+00, 0.0000e+00, 0.0000e+00, 0.0000e+00, 0.0000e+00],\n",
              "        [0.0000e+00, 0.0000e+00, 0.0000e+00, 0.0000e+00, 0.0000e+00, 0.0000e+00,\n",
              "         0.0000e+00, 0.0000e+00, 0.0000e+00, 0.0000e+00, 0.0000e+00, 0.0000e+00],\n",
              "        [0.0000e+00, 0.0000e+00, 0.0000e+00, 0.0000e+00, 0.0000e+00, 0.0000e+00,\n",
              "         0.0000e+00, 0.0000e+00, 0.0000e+00, 0.0000e+00, 0.0000e+00, 0.0000e+00],\n",
              "        [0.0000e+00, 0.0000e+00, 0.0000e+00, 0.0000e+00, 0.0000e+00, 0.0000e+00,\n",
              "         0.0000e+00, 0.0000e+00, 0.0000e+00, 0.0000e+00, 0.0000e+00, 0.0000e+00]])"
            ]
          },
          "metadata": {},
          "execution_count": 45
        }
      ]
    },
    {
      "cell_type": "code",
      "source": [
        "attentions.numpy()[0]"
      ],
      "metadata": {
        "colab": {
          "base_uri": "https://localhost:8080/"
        },
        "id": "mQz4jbbiS48B",
        "outputId": "7f05c9a1-9280-43ed-9670-cb72c6ddd698"
      },
      "execution_count": 46,
      "outputs": [
        {
          "output_type": "execute_result",
          "data": {
            "text/plain": [
              "array([2.8686811e-21, 8.4737668e-20, 1.6695166e-16, 1.8522761e-10,\n",
              "       3.0607275e-06, 4.9735745e-04, 1.1925121e-02, 5.9842423e-02,\n",
              "       1.3450402e-01, 2.0825160e-01, 2.6908463e-01, 3.1589177e-01],\n",
              "      dtype=float32)"
            ]
          },
          "metadata": {},
          "execution_count": 46
        }
      ]
    },
    {
      "cell_type": "code",
      "source": [
        "plt.figure(figsize=(14, 12))\n",
        "plt.matshow(attentions.numpy())\n",
        "plt.show()"
      ],
      "metadata": {
        "colab": {
          "base_uri": "https://localhost:8080/",
          "height": 292
        },
        "id": "SjoZxpVNS7Jx",
        "outputId": "166cc099-817f-446f-c7b6-f85b124c6cf4"
      },
      "execution_count": 47,
      "outputs": [
        {
          "output_type": "display_data",
          "data": {
            "text/plain": [
              "<Figure size 1008x864 with 0 Axes>"
            ]
          },
          "metadata": {}
        },
        {
          "output_type": "display_data",
          "data": {
            "text/plain": [
              "<Figure size 288x288 with 1 Axes>"
            ],
            "image/png": "[encoded data removed]"
          },
          "metadata": {
            "needs_background": "light"
          }
        }
      ]
    },
    {
      "cell_type": "code",
      "source": [
        "def showAttention(input_sentence, output_words, attentions):\n",
        "    # Set up figure with colorbar\n",
        "    fig = plt.figure()\n",
        "    ax = fig.add_subplot(111)\n",
        "    cax = ax.matshow(attentions.numpy(), cmap='bone')\n",
        "    fig.colorbar(cax)\n",
        "\n",
        "    # Set up axes\n",
        "    ax.set_xticklabels([''] + input_sentence.split(' ') +\n",
        "                       ['<EOS>'], rotation=90)\n",
        "    ax.set_yticklabels([''] + output_words + ['<EOS>'])\n",
        "\n",
        "    # Show label at every tick\n",
        "    ax.xaxis.set_major_locator(ticker.MultipleLocator(1))\n",
        "    ax.yaxis.set_major_locator(ticker.MultipleLocator(1))\n",
        "\n",
        "    plt.show()"
      ],
      "metadata": {
        "id": "xyqUoxc_S8kd"
      },
      "execution_count": 48,
      "outputs": []
    },
    {
      "cell_type": "code",
      "source": [
        "def evaluate_show_attention(sent):\n",
        "    output_words, attentions = evaluate(\n",
        "        encoder, attn_decoder, sent)\n",
        "    print('input =', sent)\n",
        "    print('output =', ' '.join(output_words[1:]))\n",
        "    showAttention(sent, output_words[1:], attentions)"
      ],
      "metadata": {
        "id": "-sun3ZxOS-sT"
      },
      "execution_count": 49,
      "outputs": []
    },
    {
      "cell_type": "code",
      "source": [
        "evaluate_show_attention(pairs[np.random.randint(27003)][0])"
      ],
      "metadata": {
        "colab": {
          "base_uri": "https://localhost:8080/",
          "height": 333
        },
        "id": "REvEmJGbTAI3",
        "outputId": "4b66b211-c9a5-4ab7-f43f-87f24d41dc56"
      },
      "execution_count": 50,
      "outputs": [
        {
          "output_type": "stream",
          "name": "stdout",
          "text": [
            "input = i m sorry for calling so late\n",
            "output = простите что опоздал\n"
          ]
        },
        {
          "output_type": "display_data",
          "data": {
            "text/plain": [
              "<Figure size 432x288 with 2 Axes>"
            ],
            "image/png": "[encoded data removed]"
          },
          "metadata": {
            "needs_background": "light"
          }
        }
      ]
    },
    {
      "cell_type": "code",
      "source": [
        "evaluate_show_attention(pairs[np.random.randint(27003)][0])"
      ],
      "metadata": {
        "colab": {
          "base_uri": "https://localhost:8080/",
          "height": 333
        },
        "id": "zgU7thsuTBpO",
        "outputId": "4377794b-5a99-456c-db0b-9e8ab06921ec"
      },
      "execution_count": 51,
      "outputs": [
        {
          "output_type": "stream",
          "name": "stdout",
          "text": [
            "input = she sat beside me in church\n",
            "output = она в она в в\n"
          ]
        },
        {
          "output_type": "display_data",
          "data": {
            "text/plain": [
              "<Figure size 432x288 with 2 Axes>"
            ],
            "image/png": "[encoded data removed]"
          },
          "metadata": {
            "needs_background": "light"
          }
        }
      ]
    },
    {
      "cell_type": "code",
      "source": [
        "evaluate_show_attention(pairs[np.random.randint(27003)][0])"
      ],
      "metadata": {
        "colab": {
          "base_uri": "https://localhost:8080/",
          "height": 342
        },
        "id": "5om6ZSZkTDsD",
        "outputId": "6bd91f6e-e918-4523-98fe-764627d62f95"
      },
      "execution_count": 52,
      "outputs": [
        {
          "output_type": "stream",
          "name": "stdout",
          "text": [
            "input = i m trying to get someone to help me\n",
            "output = я пытаюсь кто это сделать\n"
          ]
        },
        {
          "output_type": "display_data",
          "data": {
            "text/plain": [
              "<Figure size 432x288 with 2 Axes>"
            ],
            "image/png": "[encoded data removed]"
          },
          "metadata": {
            "needs_background": "light"
          }
        }
      ]
    },
    {
      "cell_type": "code",
      "source": [
        "evaluate_show_attention(pairs[np.random.randint(27003)][0])"
      ],
      "metadata": {
        "colab": {
          "base_uri": "https://localhost:8080/",
          "height": 333
        },
        "id": "HHZpIVP3TF3-",
        "outputId": "0a8fd57f-43fa-4e6a-a4f4-8de6c602572d"
      },
      "execution_count": 53,
      "outputs": [
        {
          "output_type": "stream",
          "name": "stdout",
          "text": [
            "input = she s stark naked\n",
            "output = она в себя\n"
          ]
        },
        {
          "output_type": "display_data",
          "data": {
            "text/plain": [
              "<Figure size 432x288 with 2 Axes>"
            ],
            "image/png": "[encoded data removed]"
          },
          "metadata": {
            "needs_background": "light"
          }
        }
      ]
    },
    {
      "cell_type": "markdown",
      "source": [
        "Очень много attention у токенов EOS, добавленных для паддинга предложений до одинаковой длины. Из-за этого на графиках attention у слов предложения не видно. Но оно есть!"
      ],
      "metadata": {
        "id": "YBNMPcwvTJsI"
      }
    },
    {
      "cell_type": "markdown",
      "source": [
        "##### Attention Decoder (на MLP)"
      ],
      "metadata": {
        "id": "TlfYNQCaTNYe"
      }
    },
    {
      "cell_type": "code",
      "source": [
        "class AttnDecoderRNN(nn.Module):\n",
        "    def __init__(self, hidden_size, output_size, dropout_p=0.1):\n",
        "        super(AttnDecoderRNN, self).__init__()\n",
        "        self.hidden_size = hidden_size\n",
        "        self.output_size = output_size\n",
        "        self.dropout_p = dropout_p\n",
        "\n",
        "        self.embedding = nn.Embedding(self.output_size, self.hidden_size)\n",
        "        self.dropout = nn.Dropout(self.dropout_p)\n",
        "        self.attn = nn.Linear(self.hidden_size * 2, 1)\n",
        "        self.attn_combine = nn.Linear(self.hidden_size * 2, self.hidden_size)\n",
        "        self.gru = nn.GRU(self.hidden_size, self.hidden_size)\n",
        "        self.out = nn.Linear(self.hidden_size, self.output_size)\n",
        "\n",
        "    def forward(self, input, hidden, encoder_outputs):\n",
        "        embedded = self.embedding(input).view(1, 1, -1)\n",
        "        embedded = self.dropout(embedded)\n",
        "\n",
        "        weights = []\n",
        "        for i in range(len(encoder_outputs)):\n",
        "            weights.append(\n",
        "                torch.tanh(self.attn(torch.cat((hidden[0][0],\n",
        "                                                encoder_outputs[i]))))\n",
        "                )\n",
        "        attn_weights = F.softmax(torch.tensor(weights, device=device))\n",
        "\n",
        "        attn_applied = torch.bmm(attn_weights.unsqueeze(0).unsqueeze(0),\n",
        "                                 encoder_outputs.view(1, -1, self.hidden_size)\n",
        "                                 )\n",
        "\n",
        "        output = torch.cat((attn_applied[0], embedded[0]), 1)\n",
        "        output = self.attn_combine(output).unsqueeze(0)\n",
        "\n",
        "        output = F.relu(output)\n",
        "        output, hidden = self.gru(output, hidden)\n",
        "\n",
        "        output = F.log_softmax(self.out(output[0]), dim=1)\n",
        "        return output, hidden, attn_weights\n",
        "\n",
        "    def initHidden(self):\n",
        "        return torch.zeros(1, 1, self.hidden_size, device=device)"
      ],
      "metadata": {
        "id": "wa4kNR_vTHu6"
      },
      "execution_count": 54,
      "outputs": []
    },
    {
      "cell_type": "markdown",
      "source": [
        "##### Обучение и оценка качества"
      ],
      "metadata": {
        "id": "JKDLyTcHTU4Y"
      }
    },
    {
      "cell_type": "code",
      "source": [
        "hidden_size = 256"
      ],
      "metadata": {
        "id": "-wcTRmWSTRp9"
      },
      "execution_count": 55,
      "outputs": []
    },
    {
      "cell_type": "code",
      "source": [
        "encoder = EncoderRNN(len(eng_dict), hidden_size).to(device)"
      ],
      "metadata": {
        "id": "XA7rYYfHTYjD"
      },
      "execution_count": 56,
      "outputs": []
    },
    {
      "cell_type": "code",
      "source": [
        "attn_decoder = AttnDecoderRNN(hidden_size, len(rus_dict)).to(device)"
      ],
      "metadata": {
        "id": "5x_zLpPGTaDD"
      },
      "execution_count": 57,
      "outputs": []
    },
    {
      "cell_type": "code",
      "source": [
        "losses = train_epochs(encoder, attn_decoder)"
      ],
      "metadata": {
        "colab": {
          "base_uri": "https://localhost:8080/",
          "height": 1000,
          "referenced_widgets": [
            "20443d5a1c2f4e668afefb75a4886664",
            "430967af0a814e9cbae0f5a320715b58",
            "615e1bfa222c46a985a9e84b118540dd",
            "075f992f90cb49e2b997f6447f506026",
            "7ca6db0a51004a62a0c9d79710ce9d42",
            "f6fb860229f147baa6c5efbe3e3c43c3",
            "9f1de529d7f6462d893f3cd6db633240",
            "cb3ab9d4e60d49a494cdd1942076088c",
            "b99e9a67ad184572823ca09ccfa94d43",
            "bbe8d63ec4d54288b105be3a728db0fe",
            "d82e83798c224c5da3edd1984a75ab70"
          ]
        },
        "id": "U2ftfsjoTbrQ",
        "outputId": "a4b47a64-4a84-40d3-f4bf-a4ab27cf5be9"
      },
      "execution_count": 58,
      "outputs": [
        {
          "output_type": "display_data",
          "data": {
            "text/plain": [
              "  0%|          | 0/75000 [00:00<?, ?it/s]"
            ],
            "application/vnd.jupyter.widget-view+json": {
              "version_major": 2,
              "version_minor": 0,
              "model_id": "20443d5a1c2f4e668afefb75a4886664"
            }
          },
          "metadata": {}
        },
        {
          "output_type": "stream",
          "name": "stdout",
          "text": [
            "\n",
            "            Epoch 5000 (6.7%)\n",
            "            Time: 2m 41s\n",
            "            Loss: 1.9628\n",
            "            \n",
            "\n",
            "            Epoch 10000 (13.3%)\n",
            "            Time: 5m 19s\n",
            "            Loss: 1.7567\n",
            "            \n",
            "\n",
            "            Epoch 15000 (20.0%)\n",
            "            Time: 7m 58s\n",
            "            Loss: 1.6388\n",
            "            \n",
            "\n",
            "            Epoch 20000 (26.7%)\n",
            "            Time: 10m 39s\n",
            "            Loss: 1.5332\n",
            "            \n",
            "\n",
            "            Epoch 25000 (33.3%)\n",
            "            Time: 13m 20s\n",
            "            Loss: 1.4429\n",
            "            \n",
            "\n",
            "            Epoch 30000 (40.0%)\n",
            "            Time: 16m 1s\n",
            "            Loss: 1.3493\n",
            "            \n",
            "\n",
            "            Epoch 35000 (46.7%)\n",
            "            Time: 18m 40s\n",
            "            Loss: 1.2913\n",
            "            \n",
            "\n",
            "            Epoch 40000 (53.3%)\n",
            "            Time: 21m 24s\n",
            "            Loss: 1.2283\n",
            "            \n",
            "\n",
            "            Epoch 45000 (60.0%)\n",
            "            Time: 24m 8s\n",
            "            Loss: 1.1568\n",
            "            \n",
            "\n",
            "            Epoch 50000 (66.7%)\n",
            "            Time: 26m 52s\n",
            "            Loss: 1.1162\n",
            "            \n",
            "\n",
            "            Epoch 55000 (73.3%)\n",
            "            Time: 29m 35s\n",
            "            Loss: 1.0649\n",
            "            \n",
            "\n",
            "            Epoch 60000 (80.0%)\n",
            "            Time: 32m 18s\n",
            "            Loss: 1.0211\n",
            "            \n",
            "\n",
            "            Epoch 65000 (86.7%)\n",
            "            Time: 35m 4s\n",
            "            Loss: 0.9786\n",
            "            \n",
            "\n",
            "            Epoch 70000 (93.3%)\n",
            "            Time: 37m 46s\n",
            "            Loss: 0.9493\n",
            "            \n",
            "\n",
            "            Epoch 75000 (100.0%)\n",
            "            Time: 40m 31s\n",
            "            Loss: 0.9188\n",
            "            \n"
          ]
        }
      ]
    },
    {
      "cell_type": "code",
      "source": [
        "show_losses(losses)"
      ],
      "metadata": {
        "colab": {
          "base_uri": "https://localhost:8080/",
          "height": 286
        },
        "id": "E2uPvwtxTdCI",
        "outputId": "75d9b818-c48a-4228-a460-709f7b4acaf7"
      },
      "execution_count": 59,
      "outputs": [
        {
          "output_type": "display_data",
          "data": {
            "text/plain": [
              "<Figure size 1008x864 with 0 Axes>"
            ]
          },
          "metadata": {}
        },
        {
          "output_type": "display_data",
          "data": {
            "text/plain": [
              "<Figure size 432x288 with 1 Axes>"
            ],
            "image/png": "[encoded data removed]"
          },
          "metadata": {
            "needs_background": "light"
          }
        }
      ]
    },
    {
      "cell_type": "markdown",
      "source": [
        "Обучается чуть-чуть дольше, чем seq2seq с attention на скалярном произведении (40 минут 31 секунд против 39 минут 8 секунд), финальный loss хуже, чем у сети с attention на скалярном произведении (0.9188 против 0.8726). Посмотрим на генерацию предложений."
      ],
      "metadata": {
        "id": "j66xXuZsTgxm"
      }
    },
    {
      "cell_type": "code",
      "source": [
        "evaluate_random(encoder, attn_decoder)"
      ],
      "metadata": {
        "colab": {
          "base_uri": "https://localhost:8080/"
        },
        "id": "wMdlAPfTTfcp",
        "outputId": "f579509a-bcfd-4b10-9804-9208e751d049"
      },
      "execution_count": 60,
      "outputs": [
        {
          "output_type": "stream",
          "name": "stdout",
          "text": [
            "\n",
            "        Eng:  you re not going to wear that are you\n",
            "        Rus:  ты ведь не собираешься это носить правда\n",
            "        Pred: ты ведь не собираешься\n",
            "        \n",
            "\n",
            "        Eng:  they re the only ones tom can trust\n",
            "        Rus:  они единственные кому том может доверять\n",
            "        Pred: ты единственный кому кому доверять\n",
            "        \n",
            "\n",
            "        Eng:  i m glad the rumors weren t true\n",
            "        Rus:  я рад что слухи не подтвердились\n",
            "        Pred: я рад что что не не\n",
            "        \n",
            "\n",
            "        Eng:  you re making a serious mistake\n",
            "        Rus:  вы совершаете серьёзную ошибку\n",
            "        Pred: ты совершаешь ошибку ошибку\n",
            "        \n",
            "\n",
            "        Eng:  we re not the murderers\n",
            "        Rus:  мы не убийцы\n",
            "        Pred: мы не не\n",
            "        \n",
            "\n",
            "        Eng:  i m younger than he is\n",
            "        Rus:  я моложе его\n",
            "        Pred: я моложе него\n",
            "        \n",
            "\n",
            "        Eng:  you re not my friend\n",
            "        Rus:  ты мне не друг\n",
            "        Pred: ты мне не подруга\n",
            "        \n",
            "\n",
            "        Eng:  he is dead and buried now\n",
            "        Rus:  сейчас он мёртв и предан земле\n",
            "        Pred: он сейчас и и\n",
            "        \n",
            "\n",
            "        Eng:  we re leaving now\n",
            "        Rus:  мы сейчас уезжаем\n",
            "        Pred: мы сейчас уходим\n",
            "        \n",
            "\n",
            "        Eng:  i m assuming you have a plan\n",
            "        Rus:  я полагаю у вас есть план\n",
            "        Pred: я спрашиваю у меня есть время\n",
            "        \n"
          ]
        }
      ]
    },
    {
      "cell_type": "markdown",
      "source": [
        "Предсказания тоже хуже, среди всех сгенерированных предложений только одно переведено правильно (в точности или по смыслу)."
      ],
      "metadata": {
        "id": "RIi-kOKtTqkv"
      }
    },
    {
      "cell_type": "code",
      "source": [
        "pair = pairs[np.random.randint(27003)]\n",
        "print(pair)"
      ],
      "metadata": {
        "colab": {
          "base_uri": "https://localhost:8080/"
        },
        "id": "YjDrXv9YTyoZ",
        "outputId": "12c50c72-6a84-47f0-d4d4-c331a0e5afea"
      },
      "execution_count": 61,
      "outputs": [
        {
          "output_type": "stream",
          "name": "stdout",
          "text": [
            "('you re twice as old as tom', 'вы в два раза старше тома')\n"
          ]
        }
      ]
    },
    {
      "cell_type": "code",
      "source": [
        "output_words, attentions = evaluate(\n",
        "    encoder, attn_decoder, pair[0])"
      ],
      "metadata": {
        "id": "xzHRRkaNT0aV"
      },
      "execution_count": 62,
      "outputs": []
    },
    {
      "cell_type": "code",
      "source": [
        "attentions"
      ],
      "metadata": {
        "colab": {
          "base_uri": "https://localhost:8080/"
        },
        "id": "pWhBSP4OT13k",
        "outputId": "2ae69828-76a1-4f5d-e77c-2bb38faf322d"
      },
      "execution_count": 63,
      "outputs": [
        {
          "output_type": "execute_result",
          "data": {
            "text/plain": [
              "tensor([[0.0746, 0.0554, 0.0621, 0.0616, 0.1201, 0.0705, 0.0921, 0.0981, 0.0825,\n",
              "         0.0893, 0.0951, 0.0985],\n",
              "        [0.0747, 0.0546, 0.0617, 0.0612, 0.1197, 0.0705, 0.0925, 0.0984, 0.0828,\n",
              "         0.0896, 0.0955, 0.0988],\n",
              "        [0.0751, 0.0539, 0.0615, 0.0610, 0.1183, 0.0707, 0.0928, 0.0986, 0.0833,\n",
              "         0.0901, 0.0957, 0.0989],\n",
              "        [0.0748, 0.0578, 0.0636, 0.0632, 0.1193, 0.0711, 0.0912, 0.0970, 0.0821,\n",
              "         0.0885, 0.0941, 0.0974],\n",
              "        [0.0764, 0.0640, 0.0681, 0.0678, 0.1131, 0.0736, 0.0890, 0.0937, 0.0819,\n",
              "         0.0869, 0.0914, 0.0941],\n",
              "        [0.0759, 0.0626, 0.0671, 0.0668, 0.1148, 0.0730, 0.0895, 0.0945, 0.0819,\n",
              "         0.0872, 0.0920, 0.0948],\n",
              "        [0.0000, 0.0000, 0.0000, 0.0000, 0.0000, 0.0000, 0.0000, 0.0000, 0.0000,\n",
              "         0.0000, 0.0000, 0.0000],\n",
              "        [0.0000, 0.0000, 0.0000, 0.0000, 0.0000, 0.0000, 0.0000, 0.0000, 0.0000,\n",
              "         0.0000, 0.0000, 0.0000],\n",
              "        [0.0000, 0.0000, 0.0000, 0.0000, 0.0000, 0.0000, 0.0000, 0.0000, 0.0000,\n",
              "         0.0000, 0.0000, 0.0000],\n",
              "        [0.0000, 0.0000, 0.0000, 0.0000, 0.0000, 0.0000, 0.0000, 0.0000, 0.0000,\n",
              "         0.0000, 0.0000, 0.0000],\n",
              "        [0.0000, 0.0000, 0.0000, 0.0000, 0.0000, 0.0000, 0.0000, 0.0000, 0.0000,\n",
              "         0.0000, 0.0000, 0.0000],\n",
              "        [0.0000, 0.0000, 0.0000, 0.0000, 0.0000, 0.0000, 0.0000, 0.0000, 0.0000,\n",
              "         0.0000, 0.0000, 0.0000]])"
            ]
          },
          "metadata": {},
          "execution_count": 63
        }
      ]
    },
    {
      "cell_type": "code",
      "source": [
        "attentions.numpy()[0]"
      ],
      "metadata": {
        "colab": {
          "base_uri": "https://localhost:8080/"
        },
        "id": "zEYxREdMT3-A",
        "outputId": "88a3a2b5-ece9-4989-dc5e-99bb2cdfd4ad"
      },
      "execution_count": 64,
      "outputs": [
        {
          "output_type": "execute_result",
          "data": {
            "text/plain": [
              "array([0.0746269 , 0.05541841, 0.06207777, 0.06162554, 0.1200615 ,\n",
              "       0.07050007, 0.09213413, 0.09809936, 0.08252174, 0.08928889,\n",
              "       0.09514069, 0.09850496], dtype=float32)"
            ]
          },
          "metadata": {},
          "execution_count": 64
        }
      ]
    },
    {
      "cell_type": "code",
      "source": [
        "plt.figure(figsize=(14, 12))\n",
        "plt.matshow(attentions.numpy())\n",
        "plt.show()"
      ],
      "metadata": {
        "colab": {
          "base_uri": "https://localhost:8080/",
          "height": 292
        },
        "id": "eIO9qFm_T5aT",
        "outputId": "ec11fd9a-80ff-43c2-ec41-de5297b7df0c"
      },
      "execution_count": 65,
      "outputs": [
        {
          "output_type": "display_data",
          "data": {
            "text/plain": [
              "<Figure size 1008x864 with 0 Axes>"
            ]
          },
          "metadata": {}
        },
        {
          "output_type": "display_data",
          "data": {
            "text/plain": [
              "<Figure size 288x288 with 1 Axes>"
            ],
            "image/png": "[encoded data removed]"
          },
          "metadata": {
            "needs_background": "light"
          }
        }
      ]
    },
    {
      "cell_type": "code",
      "source": [
        "evaluate_show_attention(pairs[np.random.randint(27003)][0])"
      ],
      "metadata": {
        "colab": {
          "base_uri": "https://localhost:8080/",
          "height": 343
        },
        "id": "UF7PiHecT7i1",
        "outputId": "cd95360a-cc49-4d1c-c156-74afe45e60a8"
      },
      "execution_count": 66,
      "outputs": [
        {
          "output_type": "stream",
          "name": "stdout",
          "text": [
            "input = you re a complete idiot\n",
            "output = ты врач\n"
          ]
        },
        {
          "output_type": "display_data",
          "data": {
            "text/plain": [
              "<Figure size 432x288 with 2 Axes>"
            ],
            "image/png": "[encoded data removed]"
          },
          "metadata": {
            "needs_background": "light"
          }
        }
      ]
    },
    {
      "cell_type": "code",
      "source": [
        "evaluate_show_attention(pairs[np.random.randint(27003)][0])"
      ],
      "metadata": {
        "colab": {
          "base_uri": "https://localhost:8080/",
          "height": 333
        },
        "id": "gPb7dDV_T8_X",
        "outputId": "cb8a296b-c9ad-42e6-d166-a65d52069c13"
      },
      "execution_count": 67,
      "outputs": [
        {
          "output_type": "stream",
          "name": "stdout",
          "text": [
            "input = you re twice as old as i am\n",
            "output = ты вдвое старше меня\n"
          ]
        },
        {
          "output_type": "display_data",
          "data": {
            "text/plain": [
              "<Figure size 432x288 with 2 Axes>"
            ],
            "image/png": "[encoded data removed]"
          },
          "metadata": {
            "needs_background": "light"
          }
        }
      ]
    },
    {
      "cell_type": "code",
      "source": [
        "evaluate_show_attention(pairs[np.random.randint(27003)][0])"
      ],
      "metadata": {
        "colab": {
          "base_uri": "https://localhost:8080/",
          "height": 333
        },
        "id": "mwsrqJ2sT_KM",
        "outputId": "3d7b0ab6-51ae-4df0-acc3-9dac54a9729f"
      },
      "execution_count": 68,
      "outputs": [
        {
          "output_type": "stream",
          "name": "stdout",
          "text": [
            "input = we re just tired\n",
            "output = мы просто устали\n"
          ]
        },
        {
          "output_type": "display_data",
          "data": {
            "text/plain": [
              "<Figure size 432x288 with 2 Axes>"
            ],
            "image/png": "[encoded data removed]"
          },
          "metadata": {
            "needs_background": "light"
          }
        }
      ]
    },
    {
      "cell_type": "code",
      "source": [
        "evaluate_show_attention(pairs[np.random.randint(27003)][0])"
      ],
      "metadata": {
        "colab": {
          "base_uri": "https://localhost:8080/",
          "height": 333
        },
        "id": "2m_4vrZMUBIN",
        "outputId": "3358d61f-1cd1-44a3-9718-e5d2bc355931"
      },
      "execution_count": 69,
      "outputs": [
        {
          "output_type": "stream",
          "name": "stdout",
          "text": [
            "input = you re a true friend\n",
            "output = ты настоящий друг\n"
          ]
        },
        {
          "output_type": "display_data",
          "data": {
            "text/plain": [
              "<Figure size 432x288 with 2 Axes>"
            ],
            "image/png": "[encoded data removed]"
          },
          "metadata": {
            "needs_background": "light"
          }
        }
      ]
    },
    {
      "cell_type": "code",
      "source": [],
      "metadata": {
        "id": "hkfNzu3tUDKy"
      },
      "execution_count": null,
      "outputs": []
    },
    {
      "cell_type": "markdown",
      "source": [
        "Зато графики attention уже больше похожи на правду – больше всего attention всё ещё у токенов EOS, добавленных в английское предложение для паддинга, но заметно, что:\n",
        "\n",
        "*   с какого-то токена EOS attention начинает плавно уменьшаться\n",
        "*   для предсказанного предложения attention ненулевое строго до токена EOS и ещё одну клетку\n",
        "*   первое слово в английском предложении, как правило, обладает наименьшим attention"
      ],
      "metadata": {
        "id": "_Vi4E4m_UHvx"
      }
    },
    {
      "cell_type": "code",
      "source": [],
      "metadata": {
        "id": "EmB4oHVtUIbE"
      },
      "execution_count": null,
      "outputs": []
    }
  ]
}